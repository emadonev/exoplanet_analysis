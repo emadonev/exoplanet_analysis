{
 "cells": [
  {
   "cell_type": "markdown",
   "metadata": {},
   "source": [
    "# Categorization of exoplanets"
   ]
  },
  {
   "cell_type": "markdown",
   "metadata": {},
   "source": [
    "---"
   ]
  },
  {
   "cell_type": "markdown",
   "metadata": {},
   "source": [
    "*Author: Ema Donev, 2022*"
   ]
  },
  {
   "cell_type": "code",
   "execution_count": 2,
   "metadata": {},
   "outputs": [],
   "source": [
    "# Basic libraries\n",
    "import pickle\n",
    "import os\n",
    "import sys\n",
    "from tqdm import tqdm\n",
    "import gc\n",
    "\n",
    "# Plotting\n",
    "import seaborn as sns\n",
    "from matplotlib import pyplot as plt\n",
    "from matplotlib import ticker\n",
    "import matplotlib.colors as mcolors\n",
    "from matplotlib.font_manager import FontProperties\n",
    "\n",
    "# DataFrame analysis\n",
    "import pandas as pd\n",
    "\n",
    "# Math libraries\n",
    "import numpy as np\n",
    "import scipy as sc\n",
    "from scipy.stats import norm"
   ]
  },
  {
   "cell_type": "code",
   "execution_count": 3,
   "metadata": {},
   "outputs": [],
   "source": [
    "# CONFIGURATION\n",
    "# -------------\n",
    "sns.set_theme(style='white') # setting the theme for plotting\n",
    "sys.path.insert(0,'../src/')\n",
    "np.random.seed(42)\n",
    "\n",
    "# configuring plotting colors\n",
    "clr = ['#465BBB', '#3F8FCE', '#7ABBCE', '#3A3865', '#A82F43', '#612A37', '#DC5433', '#F29457']\n",
    "b1 = '#465BBB'\n",
    "b2 = '#3F8FCE'\n",
    "b3 = '#7ABBCE'\n",
    "b4 = '#3A3865'\n",
    "black1 = '#22212A'\n",
    "black2 = '#2D1E21'\n",
    "or1 = '#A82F43'\n",
    "or2 = '#612A37'\n",
    "or3 = '#DC5433'\n",
    "or4 = '#F29457'\n",
    "clrs = sns.set_palette(sns.color_palette(clr))\n",
    "\n",
    "# configuring fonts for plotting\n",
    "font = FontProperties()\n",
    "font.set_family('serif')\n",
    "font.set_name('Andale Mono')\n",
    "font.set_style('normal')\n",
    "\n",
    "%matplotlib inline "
   ]
  },
  {
   "cell_type": "code",
   "execution_count": 4,
   "metadata": {},
   "outputs": [],
   "source": [
    "exo_data = pd.read_csv('../DATA/exoplanets.csv')"
   ]
  },
  {
   "cell_type": "markdown",
   "metadata": {},
   "source": [
    "## Types of exoplanets\n",
    "---"
   ]
  },
  {
   "cell_type": "markdown",
   "metadata": {},
   "source": [
    "### Gas giants\n",
    "\n",
    "Gas giants are planets similar to Jupiter and Saturn. They have a mass between 60 and 10,000 times that of Earth. Their radius ranges from 10 to 44 times Earth's radius. They are composed of gases like hydrogen and helium and have low densities. Gas giants are the easiest to detect because they are massive and large in size.\n",
    "\n",
    "### Hot Jupiters/Hot Neptunes\n",
    "\n",
    "Hot Jupiters are a subtype of gas giants. They are called \"hot\" Jupiters because they are located very close to their stars. The orbital period of a hot Jupiter is less than 10 days. Hot Jupiters disrupted scientists' models of planetary system formation, as it was not known that a gas giant could be so close to its star. Today's theories suggest that hot Jupiters originally formed farther away from their stars, where there is plenty of stellar dust and hydrogen and helium. Once the planet formed, it began migrating toward the star, where it ultimately settled. Unfortunately, in some hot Jupiters, the temperature is so high that their atmosphere slowly evaporates. Hot Neptunes are just like Hot Jupiters, just smaller in size and, well, Neptune-like.\n",
    "\n",
    "### Neptune-likes\n",
    "\n",
    "Neptune-like planets are, as the name suggests, similar to Neptune. Their mass ranges from 6 to 60 times that of Earth, and their radius ranges from 2.5 to 10 times Earth's radius. The dense atmospheres of Neptune-like planets are most likely composed of hydrogen, helium, and a little methane. Their density is similar to that of gas giants, as they are made of the same materials.\n",
    "\n",
    "### Super-Earths\n",
    "\n",
    "Super-Earths are larger than Earth, as the name suggests. However, the name does not indicate the composition of the exoplanet. The mass of a super-Earth ranges from 1 to 6 times Earth's mass, and the radius ranges from 1.6 to 2.5 times Earth's radius. Super-Earths can have different compositions and may or may not have an atmosphere. All characteristics of super-Earths depend on the density of the exoplanet. Super-Earths are of great interest to us because they could potentially support life.\n",
    "\n",
    "### Terrestrial planets\n",
    "\n",
    "Terrestrial planets are of particular interest to astrobiologists because they are the most suitable for life. The mass of these planets ranges from 0.05 to 1 times Earth's mass, and their radius ranges from 0.1 to 1.6 times Earth's radius. Terrestrial planets are usually composed of rock and metal and may or may not have an atmosphere. These planets are the most similar in composition and mass to Earth and are very important in the search for life. Additionally, they are very small and therefore difficult to detect using exoplanet detection methods."
   ]
  },
  {
   "cell_type": "markdown",
   "metadata": {},
   "source": [
    "---"
   ]
  },
  {
   "cell_type": "markdown",
   "metadata": {},
   "source": [
    "## Classification via mass/radius"
   ]
  },
  {
   "cell_type": "code",
   "execution_count": 5,
   "metadata": {},
   "outputs": [
    {
     "name": "stderr",
     "output_type": "stream",
     "text": [
      "100%|██████████| 4940/4940 [00:00<00:00, 27816.08it/s]\n"
     ]
    },
    {
     "data": {
      "text/plain": [
       "0"
      ]
     },
     "execution_count": 5,
     "metadata": {},
     "output_type": "execute_result"
    }
   ],
   "source": [
    "for row in tqdm(range(exo_data.shape[0])):\n",
    "    r = exo_data.loc[row,'pl_rade']      # access radius\n",
    "    m = exo_data.loc[row,'pl_bmasse']    # access mass\n",
    "\n",
    "    # ==== IF THE PLANET HAS A RADIUS =====\n",
    "    if (np.isnan(m) and not np.isnan(r)):\n",
    "        if (r < 1.6):\n",
    "            exo_data.loc[row, 'exo_class'] = \"Terrestrial\"\n",
    "        elif (r >= 1.6) and (r < 2.5):\n",
    "            exo_data.loc[row, 'exo_class'] = \"Super-Earth\"\n",
    "        elif (r >= 2.5) and (r < 10):\n",
    "            exo_data.loc[row, 'exo_class'] = \"Neptune-like\"\n",
    "        elif (r >= 10):\n",
    "            exo_data.loc[row, 'exo_class'] = \"Gas giant\"\n",
    "    # ==== IMA MASU =====\n",
    "    elif (np.isnan(m) == False):\n",
    "        if (m < 1):\n",
    "            exo_data.loc[row, 'exo_class'] = \"Terrestrial\"\n",
    "        elif (m >= 1) and (m < 6):\n",
    "            exo_data.loc[row, 'exo_class'] = \"Super-Earth\"\n",
    "        elif (m >= 6) and (m < 60):\n",
    "            exo_data.loc[row, 'exo_class'] = \"Neptune-like\"\n",
    "        elif (m >= 60):\n",
    "            exo_data.loc[row, 'exo_class'] = \"Gas giant\"\n",
    "\n",
    "del m,r,row\n",
    "gc.collect()"
   ]
  },
  {
   "cell_type": "code",
   "execution_count": 6,
   "metadata": {},
   "outputs": [
    {
     "data": {
      "text/plain": [
       "Super-Earth     1707\n",
       "Neptune-like    1614\n",
       "Gas giant       1436\n",
       "Terrestrial      178\n",
       "Name: exo_class, dtype: int64"
      ]
     },
     "execution_count": 6,
     "metadata": {},
     "output_type": "execute_result"
    }
   ],
   "source": [
    "exo_data.exo_class.value_counts()"
   ]
  },
  {
   "cell_type": "markdown",
   "metadata": {},
   "source": [
    "> For values with NaN, I fill them with 0s instead, so it is easier to draw graphs later."
   ]
  },
  {
   "cell_type": "code",
   "execution_count": 7,
   "metadata": {},
   "outputs": [
    {
     "name": "stdout",
     "output_type": "stream",
     "text": [
      "5\n"
     ]
    }
   ],
   "source": [
    "print(exo_data.exo_class.isnull().sum())\n",
    "exo_data['exo_class'] = exo_data.exo_class.fillna(np.nan)"
   ]
  },
  {
   "cell_type": "markdown",
   "metadata": {},
   "source": [
    "## Classification via distance"
   ]
  },
  {
   "cell_type": "code",
   "execution_count": 8,
   "metadata": {},
   "outputs": [
    {
     "name": "stderr",
     "output_type": "stream",
     "text": [
      "100%|██████████| 4940/4940 [00:00<00:00, 62717.33it/s]\n"
     ]
    },
    {
     "data": {
      "text/plain": [
       "0"
      ]
     },
     "execution_count": 8,
     "metadata": {},
     "output_type": "execute_result"
    }
   ],
   "source": [
    "exo_data['exo_class_ext'] = np.nan # fill a collumn with NaN values\n",
    "for row in tqdm(range(exo_data.shape[0])):\n",
    "    p = exo_data.loc[row,'pl_orbper']      # access orbital period\n",
    "    c = exo_data.loc[row,'exo_class'] # access exoplanet class\n",
    "    if (p > 0) and (p < 4) and (c == \"Neptune-like\"): # if the period is within range and the planet is neptune-like\n",
    "        exo_data.loc[row, 'exo_class_ext'] = \"Hot Neptune\" # assign a new value\n",
    "    elif (p > 0) and (p < 10) and (c == \"Gas giant\"): # if the period is within range and the planet is jupiter-like\n",
    "        exo_data.loc[row, 'exo_class_ext'] = \"Hot Jupiter\"\n",
    "del p,c,row\n",
    "gc.collect()"
   ]
  },
  {
   "cell_type": "code",
   "execution_count": 9,
   "metadata": {},
   "outputs": [
    {
     "data": {
      "text/html": [
       "<div>\n",
       "<style scoped>\n",
       "    .dataframe tbody tr th:only-of-type {\n",
       "        vertical-align: middle;\n",
       "    }\n",
       "\n",
       "    .dataframe tbody tr th {\n",
       "        vertical-align: top;\n",
       "    }\n",
       "\n",
       "    .dataframe thead th {\n",
       "        text-align: right;\n",
       "    }\n",
       "</style>\n",
       "<table border=\"1\" class=\"dataframe\">\n",
       "  <thead>\n",
       "    <tr style=\"text-align: right;\">\n",
       "      <th>exo_class_ext</th>\n",
       "      <th>Hot Jupiter</th>\n",
       "      <th>Hot Neptune</th>\n",
       "    </tr>\n",
       "    <tr>\n",
       "      <th>exo_class</th>\n",
       "      <th></th>\n",
       "      <th></th>\n",
       "    </tr>\n",
       "  </thead>\n",
       "  <tbody>\n",
       "    <tr>\n",
       "      <th>Gas giant</th>\n",
       "      <td>572</td>\n",
       "      <td>0</td>\n",
       "    </tr>\n",
       "    <tr>\n",
       "      <th>Neptune-like</th>\n",
       "      <td>0</td>\n",
       "      <td>133</td>\n",
       "    </tr>\n",
       "  </tbody>\n",
       "</table>\n",
       "</div>"
      ],
      "text/plain": [
       "exo_class_ext  Hot Jupiter  Hot Neptune\n",
       "exo_class                              \n",
       "Gas giant              572            0\n",
       "Neptune-like             0          133"
      ]
     },
     "execution_count": 9,
     "metadata": {},
     "output_type": "execute_result"
    }
   ],
   "source": [
    "test = pd.crosstab(exo_data['exo_class'],exo_data['exo_class_ext'])\n",
    "test.head()"
   ]
  },
  {
   "cell_type": "code",
   "execution_count": 10,
   "metadata": {},
   "outputs": [
    {
     "data": {
      "text/html": [
       "<div>\n",
       "<style scoped>\n",
       "    .dataframe tbody tr th:only-of-type {\n",
       "        vertical-align: middle;\n",
       "    }\n",
       "\n",
       "    .dataframe tbody tr th {\n",
       "        vertical-align: top;\n",
       "    }\n",
       "\n",
       "    .dataframe thead th {\n",
       "        text-align: right;\n",
       "    }\n",
       "</style>\n",
       "<table border=\"1\" class=\"dataframe\">\n",
       "  <thead>\n",
       "    <tr style=\"text-align: right;\">\n",
       "      <th></th>\n",
       "      <th>pl_name</th>\n",
       "      <th>hostname</th>\n",
       "      <th>sy_snum</th>\n",
       "      <th>sy_pnum</th>\n",
       "      <th>pl_orbper</th>\n",
       "      <th>pl_orbsmax</th>\n",
       "      <th>pl_rade</th>\n",
       "      <th>pl_bmasse</th>\n",
       "      <th>pl_dens</th>\n",
       "      <th>pl_orbeccen</th>\n",
       "      <th>st_teff</th>\n",
       "      <th>st_mass</th>\n",
       "      <th>st_met</th>\n",
       "      <th>sy_dist</th>\n",
       "      <th>exo_class</th>\n",
       "      <th>exo_class_ext</th>\n",
       "    </tr>\n",
       "  </thead>\n",
       "  <tbody>\n",
       "    <tr>\n",
       "      <th>0</th>\n",
       "      <td>11 Com b</td>\n",
       "      <td>11 Com</td>\n",
       "      <td>2</td>\n",
       "      <td>1</td>\n",
       "      <td>326.03000</td>\n",
       "      <td>1.29</td>\n",
       "      <td>12.1</td>\n",
       "      <td>6165.6000</td>\n",
       "      <td>19.10</td>\n",
       "      <td>0.231</td>\n",
       "      <td>4742.0</td>\n",
       "      <td>2.70</td>\n",
       "      <td>-0.35</td>\n",
       "      <td>93.1846</td>\n",
       "      <td>Gas giant</td>\n",
       "      <td>Gas giant</td>\n",
       "    </tr>\n",
       "    <tr>\n",
       "      <th>1</th>\n",
       "      <td>11 UMi b</td>\n",
       "      <td>11 UMi</td>\n",
       "      <td>1</td>\n",
       "      <td>1</td>\n",
       "      <td>516.21997</td>\n",
       "      <td>1.53</td>\n",
       "      <td>12.3</td>\n",
       "      <td>4684.8142</td>\n",
       "      <td>13.80</td>\n",
       "      <td>0.080</td>\n",
       "      <td>4213.0</td>\n",
       "      <td>2.78</td>\n",
       "      <td>-0.02</td>\n",
       "      <td>125.3210</td>\n",
       "      <td>Gas giant</td>\n",
       "      <td>Gas giant</td>\n",
       "    </tr>\n",
       "    <tr>\n",
       "      <th>2</th>\n",
       "      <td>14 And b</td>\n",
       "      <td>14 And</td>\n",
       "      <td>1</td>\n",
       "      <td>1</td>\n",
       "      <td>185.84000</td>\n",
       "      <td>0.83</td>\n",
       "      <td>12.9</td>\n",
       "      <td>1525.5000</td>\n",
       "      <td>3.90</td>\n",
       "      <td>0.000</td>\n",
       "      <td>4813.0</td>\n",
       "      <td>2.20</td>\n",
       "      <td>-0.24</td>\n",
       "      <td>75.4392</td>\n",
       "      <td>Gas giant</td>\n",
       "      <td>Gas giant</td>\n",
       "    </tr>\n",
       "    <tr>\n",
       "      <th>3</th>\n",
       "      <td>14 Her b</td>\n",
       "      <td>14 Her</td>\n",
       "      <td>1</td>\n",
       "      <td>2</td>\n",
       "      <td>1773.40002</td>\n",
       "      <td>2.93</td>\n",
       "      <td>12.9</td>\n",
       "      <td>1481.0878</td>\n",
       "      <td>3.79</td>\n",
       "      <td>0.370</td>\n",
       "      <td>5338.0</td>\n",
       "      <td>0.90</td>\n",
       "      <td>0.41</td>\n",
       "      <td>17.9323</td>\n",
       "      <td>Gas giant</td>\n",
       "      <td>Gas giant</td>\n",
       "    </tr>\n",
       "    <tr>\n",
       "      <th>4</th>\n",
       "      <td>16 Cyg B b</td>\n",
       "      <td>16 Cyg B</td>\n",
       "      <td>3</td>\n",
       "      <td>1</td>\n",
       "      <td>798.50000</td>\n",
       "      <td>1.66</td>\n",
       "      <td>13.5</td>\n",
       "      <td>565.7374</td>\n",
       "      <td>1.26</td>\n",
       "      <td>0.680</td>\n",
       "      <td>5750.0</td>\n",
       "      <td>1.08</td>\n",
       "      <td>0.06</td>\n",
       "      <td>21.1397</td>\n",
       "      <td>Gas giant</td>\n",
       "      <td>Gas giant</td>\n",
       "    </tr>\n",
       "  </tbody>\n",
       "</table>\n",
       "</div>"
      ],
      "text/plain": [
       "      pl_name  hostname  sy_snum  sy_pnum   pl_orbper  pl_orbsmax  pl_rade  \\\n",
       "0    11 Com b    11 Com        2        1   326.03000        1.29     12.1   \n",
       "1    11 UMi b    11 UMi        1        1   516.21997        1.53     12.3   \n",
       "2    14 And b    14 And        1        1   185.84000        0.83     12.9   \n",
       "3    14 Her b    14 Her        1        2  1773.40002        2.93     12.9   \n",
       "4  16 Cyg B b  16 Cyg B        3        1   798.50000        1.66     13.5   \n",
       "\n",
       "   pl_bmasse  pl_dens  pl_orbeccen  st_teff  st_mass  st_met   sy_dist  \\\n",
       "0  6165.6000    19.10        0.231   4742.0     2.70   -0.35   93.1846   \n",
       "1  4684.8142    13.80        0.080   4213.0     2.78   -0.02  125.3210   \n",
       "2  1525.5000     3.90        0.000   4813.0     2.20   -0.24   75.4392   \n",
       "3  1481.0878     3.79        0.370   5338.0     0.90    0.41   17.9323   \n",
       "4   565.7374     1.26        0.680   5750.0     1.08    0.06   21.1397   \n",
       "\n",
       "   exo_class exo_class_ext  \n",
       "0  Gas giant     Gas giant  \n",
       "1  Gas giant     Gas giant  \n",
       "2  Gas giant     Gas giant  \n",
       "3  Gas giant     Gas giant  \n",
       "4  Gas giant     Gas giant  "
      ]
     },
     "execution_count": 10,
     "metadata": {},
     "output_type": "execute_result"
    }
   ],
   "source": [
    "exo_data['exo_class_ext'] = exo_data['exo_class_ext'].fillna(exo_data['exo_class'])\n",
    "exo_data.head()"
   ]
  },
  {
   "cell_type": "markdown",
   "metadata": {},
   "source": [
    "We have now succesfully classified all exoplanets via their mass/radius and their distance into 6 types."
   ]
  },
  {
   "cell_type": "code",
   "execution_count": 11,
   "metadata": {},
   "outputs": [],
   "source": [
    "exo_data.to_csv(\"../DATA/exoplanets_categorized.csv\", index=False)"
   ]
  },
  {
   "cell_type": "markdown",
   "metadata": {},
   "source": [
    "## Statistics of categorization"
   ]
  },
  {
   "cell_type": "markdown",
   "metadata": {},
   "source": [
    "In this small section we analyze the categorization, by looking at the distribution of types across planetary systems, general properties, etc."
   ]
  },
  {
   "cell_type": "markdown",
   "metadata": {},
   "source": [
    "---"
   ]
  },
  {
   "cell_type": "code",
   "execution_count": 12,
   "metadata": {},
   "outputs": [
    {
     "data": {
      "text/html": [
       "<div>\n",
       "<style scoped>\n",
       "    .dataframe tbody tr th:only-of-type {\n",
       "        vertical-align: middle;\n",
       "    }\n",
       "\n",
       "    .dataframe tbody tr th {\n",
       "        vertical-align: top;\n",
       "    }\n",
       "\n",
       "    .dataframe thead th {\n",
       "        text-align: right;\n",
       "    }\n",
       "</style>\n",
       "<table border=\"1\" class=\"dataframe\">\n",
       "  <thead>\n",
       "    <tr style=\"text-align: right;\">\n",
       "      <th>sy_pnum</th>\n",
       "      <th>1</th>\n",
       "      <th>2</th>\n",
       "      <th>3</th>\n",
       "      <th>4</th>\n",
       "      <th>5</th>\n",
       "      <th>6</th>\n",
       "      <th>7</th>\n",
       "      <th>8</th>\n",
       "    </tr>\n",
       "    <tr>\n",
       "      <th>exo_class_ext</th>\n",
       "      <th></th>\n",
       "      <th></th>\n",
       "      <th></th>\n",
       "      <th></th>\n",
       "      <th></th>\n",
       "      <th></th>\n",
       "      <th></th>\n",
       "      <th></th>\n",
       "    </tr>\n",
       "  </thead>\n",
       "  <tbody>\n",
       "    <tr>\n",
       "      <th>Gas giant</th>\n",
       "      <td>572</td>\n",
       "      <td>211</td>\n",
       "      <td>44</td>\n",
       "      <td>25</td>\n",
       "      <td>6</td>\n",
       "      <td>4</td>\n",
       "      <td>0</td>\n",
       "      <td>2</td>\n",
       "    </tr>\n",
       "    <tr>\n",
       "      <th>Hot Jupiter</th>\n",
       "      <td>526</td>\n",
       "      <td>33</td>\n",
       "      <td>9</td>\n",
       "      <td>2</td>\n",
       "      <td>2</td>\n",
       "      <td>0</td>\n",
       "      <td>0</td>\n",
       "      <td>0</td>\n",
       "    </tr>\n",
       "    <tr>\n",
       "      <th>Hot Neptune</th>\n",
       "      <td>85</td>\n",
       "      <td>22</td>\n",
       "      <td>14</td>\n",
       "      <td>8</td>\n",
       "      <td>1</td>\n",
       "      <td>3</td>\n",
       "      <td>0</td>\n",
       "      <td>0</td>\n",
       "    </tr>\n",
       "    <tr>\n",
       "      <th>Neptune-like</th>\n",
       "      <td>732</td>\n",
       "      <td>367</td>\n",
       "      <td>222</td>\n",
       "      <td>84</td>\n",
       "      <td>49</td>\n",
       "      <td>24</td>\n",
       "      <td>0</td>\n",
       "      <td>3</td>\n",
       "    </tr>\n",
       "    <tr>\n",
       "      <th>Super-Earth</th>\n",
       "      <td>886</td>\n",
       "      <td>396</td>\n",
       "      <td>224</td>\n",
       "      <td>117</td>\n",
       "      <td>60</td>\n",
       "      <td>17</td>\n",
       "      <td>4</td>\n",
       "      <td>3</td>\n",
       "    </tr>\n",
       "    <tr>\n",
       "      <th>Terrestrial</th>\n",
       "      <td>93</td>\n",
       "      <td>39</td>\n",
       "      <td>24</td>\n",
       "      <td>12</td>\n",
       "      <td>7</td>\n",
       "      <td>0</td>\n",
       "      <td>3</td>\n",
       "      <td>0</td>\n",
       "    </tr>\n",
       "  </tbody>\n",
       "</table>\n",
       "</div>"
      ],
      "text/plain": [
       "sy_pnum          1    2    3    4   5   6  7  8\n",
       "exo_class_ext                                  \n",
       "Gas giant      572  211   44   25   6   4  0  2\n",
       "Hot Jupiter    526   33    9    2   2   0  0  0\n",
       "Hot Neptune     85   22   14    8   1   3  0  0\n",
       "Neptune-like   732  367  222   84  49  24  0  3\n",
       "Super-Earth    886  396  224  117  60  17  4  3\n",
       "Terrestrial     93   39   24   12   7   0  3  0"
      ]
     },
     "execution_count": 12,
     "metadata": {},
     "output_type": "execute_result"
    }
   ],
   "source": [
    "pl_num = pd.crosstab(exo_data['exo_class_ext'],exo_data['sy_pnum'])\n",
    "pd.DataFrame(pl_num)\n",
    "pl_num.head(10)"
   ]
  },
  {
   "cell_type": "markdown",
   "metadata": {},
   "source": [
    "We can see the composition of systems with 1 to 8 planets. The table shows only one system with 8 planets, which means that our solar system is unique and not similar to other systems in the universe as we know them so far. This system with 8 planets is very diverse, containing three types of exoplanets: 2 gas giants, 3 Neptune-like planets, and 3 Super-Earths. Additionally, we have only one system with 7 planets, which contains only 4 Super-Earths and 3 terrestrial planets.\n",
    "\n",
    "From the table, we can see that there are the most systems with just one exoplanet, typically a Super-Earth as the sole planet. This indicates that the formation of multiple planets, or more than one planet, is difficult, and it is easier for a system to have just one planet. In general, planetary systems are diverse, with different combinations of planets. Systems with only one planet are probably quite similar, but it is not possible to confirm this without knowing all the other parameters of these exoplanets."
   ]
  },
  {
   "cell_type": "code",
   "execution_count": 13,
   "metadata": {},
   "outputs": [
    {
     "data": {
      "text/html": [
       "<div>\n",
       "<style scoped>\n",
       "    .dataframe tbody tr th:only-of-type {\n",
       "        vertical-align: middle;\n",
       "    }\n",
       "\n",
       "    .dataframe tbody tr th {\n",
       "        vertical-align: top;\n",
       "    }\n",
       "\n",
       "    .dataframe thead th {\n",
       "        text-align: right;\n",
       "    }\n",
       "</style>\n",
       "<table border=\"1\" class=\"dataframe\">\n",
       "  <thead>\n",
       "    <tr style=\"text-align: right;\">\n",
       "      <th>sy_snum</th>\n",
       "      <th>1</th>\n",
       "      <th>2</th>\n",
       "      <th>3</th>\n",
       "      <th>4</th>\n",
       "    </tr>\n",
       "    <tr>\n",
       "      <th>exo_class_ext</th>\n",
       "      <th></th>\n",
       "      <th></th>\n",
       "      <th></th>\n",
       "      <th></th>\n",
       "    </tr>\n",
       "  </thead>\n",
       "  <tbody>\n",
       "    <tr>\n",
       "      <th>Gas giant</th>\n",
       "      <td>704</td>\n",
       "      <td>136</td>\n",
       "      <td>22</td>\n",
       "      <td>2</td>\n",
       "    </tr>\n",
       "    <tr>\n",
       "      <th>Hot Jupiter</th>\n",
       "      <td>463</td>\n",
       "      <td>94</td>\n",
       "      <td>15</td>\n",
       "      <td>0</td>\n",
       "    </tr>\n",
       "    <tr>\n",
       "      <th>Hot Neptune</th>\n",
       "      <td>124</td>\n",
       "      <td>9</td>\n",
       "      <td>0</td>\n",
       "      <td>0</td>\n",
       "    </tr>\n",
       "    <tr>\n",
       "      <th>Neptune-like</th>\n",
       "      <td>1395</td>\n",
       "      <td>83</td>\n",
       "      <td>3</td>\n",
       "      <td>0</td>\n",
       "    </tr>\n",
       "    <tr>\n",
       "      <th>Super-Earth</th>\n",
       "      <td>1633</td>\n",
       "      <td>65</td>\n",
       "      <td>9</td>\n",
       "      <td>0</td>\n",
       "    </tr>\n",
       "    <tr>\n",
       "      <th>Terrestrial</th>\n",
       "      <td>161</td>\n",
       "      <td>12</td>\n",
       "      <td>5</td>\n",
       "      <td>0</td>\n",
       "    </tr>\n",
       "  </tbody>\n",
       "</table>\n",
       "</div>"
      ],
      "text/plain": [
       "sy_snum           1    2   3  4\n",
       "exo_class_ext                  \n",
       "Gas giant       704  136  22  2\n",
       "Hot Jupiter     463   94  15  0\n",
       "Hot Neptune     124    9   0  0\n",
       "Neptune-like   1395   83   3  0\n",
       "Super-Earth    1633   65   9  0\n",
       "Terrestrial     161   12   5  0"
      ]
     },
     "execution_count": 13,
     "metadata": {},
     "output_type": "execute_result"
    }
   ],
   "source": [
    "st_num = pd.crosstab(exo_data['exo_class_ext'],exo_data['sy_snum'])\n",
    "pd.DataFrame(st_num)\n",
    "st_num.head(10)"
   ]
  },
  {
   "cell_type": "markdown",
   "metadata": {},
   "source": [
    "We can see that there are systems with 4 stars, and that system contains 2 gas giants. This is expected, as it is very difficult to form planets around 2 stars. The most common systems are those with 1 star, where planet formation is relatively simple. We can observe that as systems become more complex, with a greater number of stars, there are fewer terrestrial planets and super-Earths, and more gas giants."
   ]
  },
  {
   "cell_type": "code",
   "execution_count": 14,
   "metadata": {},
   "outputs": [
    {
     "data": {
      "text/html": [
       "<div>\n",
       "<style scoped>\n",
       "    .dataframe tbody tr th:only-of-type {\n",
       "        vertical-align: middle;\n",
       "    }\n",
       "\n",
       "    .dataframe tbody tr th {\n",
       "        vertical-align: top;\n",
       "    }\n",
       "\n",
       "    .dataframe thead th {\n",
       "        text-align: right;\n",
       "    }\n",
       "</style>\n",
       "<table border=\"1\" class=\"dataframe\">\n",
       "  <thead>\n",
       "    <tr style=\"text-align: right;\">\n",
       "      <th></th>\n",
       "      <th>Masa</th>\n",
       "      <th>Radijus</th>\n",
       "      <th>Gustoca</th>\n",
       "      <th>Eksentricitet</th>\n",
       "    </tr>\n",
       "  </thead>\n",
       "  <tbody>\n",
       "    <tr>\n",
       "      <th>Gas giant</th>\n",
       "      <td>723.92175</td>\n",
       "      <td>13.10</td>\n",
       "      <td>1.780</td>\n",
       "      <td>0.1825</td>\n",
       "    </tr>\n",
       "    <tr>\n",
       "      <th>Hot Jupiter</th>\n",
       "      <td>299.07803</td>\n",
       "      <td>13.60</td>\n",
       "      <td>0.665</td>\n",
       "      <td>0.0000</td>\n",
       "    </tr>\n",
       "    <tr>\n",
       "      <th>Neptune-like</th>\n",
       "      <td>9.60000</td>\n",
       "      <td>2.93</td>\n",
       "      <td>1.950</td>\n",
       "      <td>0.0000</td>\n",
       "    </tr>\n",
       "    <tr>\n",
       "      <th>Hot Neptune</th>\n",
       "      <td>8.91000</td>\n",
       "      <td>2.83</td>\n",
       "      <td>2.090</td>\n",
       "      <td>0.0000</td>\n",
       "    </tr>\n",
       "    <tr>\n",
       "      <th>Super-Earth</th>\n",
       "      <td>3.29000</td>\n",
       "      <td>1.62</td>\n",
       "      <td>4.180</td>\n",
       "      <td>0.0000</td>\n",
       "    </tr>\n",
       "    <tr>\n",
       "      <th>Terrestrial</th>\n",
       "      <td>0.56600</td>\n",
       "      <td>0.86</td>\n",
       "      <td>4.890</td>\n",
       "      <td>0.0000</td>\n",
       "    </tr>\n",
       "    <tr>\n",
       "      <th>NaN</th>\n",
       "      <td>NaN</td>\n",
       "      <td>NaN</td>\n",
       "      <td>NaN</td>\n",
       "      <td>NaN</td>\n",
       "    </tr>\n",
       "  </tbody>\n",
       "</table>\n",
       "</div>"
      ],
      "text/plain": [
       "                   Masa  Radijus  Gustoca  Eksentricitet\n",
       "Gas giant     723.92175    13.10    1.780         0.1825\n",
       "Hot Jupiter   299.07803    13.60    0.665         0.0000\n",
       "Neptune-like    9.60000     2.93    1.950         0.0000\n",
       "Hot Neptune     8.91000     2.83    2.090         0.0000\n",
       "Super-Earth     3.29000     1.62    4.180         0.0000\n",
       "Terrestrial     0.56600     0.86    4.890         0.0000\n",
       "NaN                 NaN      NaN      NaN            NaN"
      ]
     },
     "execution_count": 14,
     "metadata": {},
     "output_type": "execute_result"
    }
   ],
   "source": [
    "medijan_mase = exo_data.groupby('exo_class_ext')['pl_bmasse'].agg('median').to_dict()\n",
    "medijan_gustoce = exo_data.groupby('exo_class_ext')['pl_dens'].agg('median').to_dict()\n",
    "medijan_radijusa = exo_data.groupby('exo_class_ext')['pl_rade'].agg('median').to_dict()\n",
    "medijan_eks = exo_data.groupby('exo_class_ext')['pl_orbeccen'].agg('median').to_dict()\n",
    "\n",
    "summary = pd.DataFrame(index=exo_data['exo_class_ext'].unique())\n",
    "summary['Masa'] = summary.index.map(medijan_mase)\n",
    "summary['Radijus'] = summary.index.map(medijan_radijusa)\n",
    "summary['Gustoca'] = summary.index.map(medijan_gustoce)\n",
    "summary['Eksentricitet'] = summary.index.map(medijan_eks)\n",
    "summary"
   ]
  },
  {
   "cell_type": "markdown",
   "metadata": {},
   "source": [
    "This table shows the medians for mass, radius, density, and eccentricity across all categories of exoplanets. Why use the median instead of the average? Because some exoplanets in the table have very large values that are not precise. The average would take these larger values into account, and the result would be different if these large values were excluded from the calculation. The median is different from the average in that it represents the middle number in a list of sorted numbers, so large values do not have a significant impact on the final calculation.\n",
    "\n",
    "We can see that gas giants, the largest planets, have the highest eccentricities, while all others have more circular orbits. We can also observe that the most common density in gas giants reflects a composition of hydrogen and helium, while super-Earths and terrestrial planets have a density typical of rocky materials. The masses and radii are all proportional to the predicted sizes for each type of exoplanet, indicating that the categorization is accurate, though with some degree of volatility."
   ]
  },
  {
   "cell_type": "code",
   "execution_count": 15,
   "metadata": {},
   "outputs": [],
   "source": [
    "def annotate_countplot(sp, df: pd.DataFrame(), perc_height:float, font_size:int=10):\n",
    "    for p in sp.patches:\n",
    "        height = p.get_height()\n",
    "    \n",
    "        sp.text(p.get_x() + p.get_width()/2., \n",
    "                height + len(df) * perc_height, height,\n",
    "                ha = 'center', fontsize = font_size)"
   ]
  },
  {
   "cell_type": "markdown",
   "metadata": {},
   "source": [
    "---"
   ]
  },
  {
   "cell_type": "markdown",
   "metadata": {},
   "source": [
    "# Next...\n",
    "\n",
    "The next step is to classify stars in every system into its respective spectral type, and finally form planetary systems!"
   ]
  }
 ],
 "metadata": {
  "kernelspec": {
   "display_name": "rr_lyrae",
   "language": "python",
   "name": "rr_lyrae"
  },
  "language_info": {
   "codemirror_mode": {
    "name": "ipython",
    "version": 3
   },
   "file_extension": ".py",
   "mimetype": "text/x-python",
   "name": "python",
   "nbconvert_exporter": "python",
   "pygments_lexer": "ipython3",
   "version": "3.11.4"
  }
 },
 "nbformat": 4,
 "nbformat_minor": 2
}
