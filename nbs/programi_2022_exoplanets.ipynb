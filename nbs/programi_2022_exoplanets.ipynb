{
 "cells": [
  {
   "cell_type": "markdown",
   "metadata": {},
   "source": [
    "# Natjecanje iz astronomije 2022"
   ]
  },
  {
   "cell_type": "markdown",
   "metadata": {},
   "source": [
    "## Jesu li svi planetarni sustavi slični?"
   ]
  },
  {
   "cell_type": "markdown",
   "metadata": {},
   "source": [
    "### Preuzimanje podataka i učitavanje knjižnica"
   ]
  },
  {
   "cell_type": "markdown",
   "metadata": {},
   "source": [
    "Za ovaj praktičan rad potrebne su sljedeće knjižnice:\n",
    "- seaborn: crtanje grafova\n",
    "- numpy: računi u matematici\n",
    "- pandas: obrada tablica\n",
    "- matplotlib: crtanje grafova\n",
    "- gc: brisanje bezpotrebnih varijabla i tablica da se memorija oslobodi"
   ]
  },
  {
   "cell_type": "code",
   "execution_count": 1,
   "metadata": {},
   "outputs": [],
   "source": [
    "%matplotlib inline\n",
    "import pandas as pd \n",
    "import numpy as np \n",
    "import matplotlib.pyplot as plt \n",
    "import seaborn as sns\n",
    "import gc"
   ]
  },
  {
   "cell_type": "markdown",
   "metadata": {},
   "source": [
    "Učitavam tablicu `exo_data` sa podatcima"
   ]
  },
  {
   "cell_type": "code",
   "execution_count": 2,
   "metadata": {},
   "outputs": [],
   "source": [
    "#učitavanje podataka\n",
    "exo_data = pd.read_csv('exoplanets.csv')"
   ]
  },
  {
   "cell_type": "code",
   "execution_count": 3,
   "metadata": {},
   "outputs": [
    {
     "name": "stdout",
     "output_type": "stream",
     "text": [
      "(4940, 14)\n"
     ]
    },
    {
     "data": {
      "text/html": [
       "<div>\n",
       "<style scoped>\n",
       "    .dataframe tbody tr th:only-of-type {\n",
       "        vertical-align: middle;\n",
       "    }\n",
       "\n",
       "    .dataframe tbody tr th {\n",
       "        vertical-align: top;\n",
       "    }\n",
       "\n",
       "    .dataframe thead th {\n",
       "        text-align: right;\n",
       "    }\n",
       "</style>\n",
       "<table border=\"1\" class=\"dataframe\">\n",
       "  <thead>\n",
       "    <tr style=\"text-align: right;\">\n",
       "      <th></th>\n",
       "      <th>pl_name</th>\n",
       "      <th>hostname</th>\n",
       "      <th>sy_snum</th>\n",
       "      <th>sy_pnum</th>\n",
       "      <th>pl_orbper</th>\n",
       "      <th>pl_orbsmax</th>\n",
       "      <th>pl_rade</th>\n",
       "      <th>pl_bmasse</th>\n",
       "      <th>pl_dens</th>\n",
       "      <th>pl_orbeccen</th>\n",
       "      <th>st_teff</th>\n",
       "      <th>st_mass</th>\n",
       "      <th>st_met</th>\n",
       "      <th>sy_dist</th>\n",
       "    </tr>\n",
       "  </thead>\n",
       "  <tbody>\n",
       "    <tr>\n",
       "      <th>0</th>\n",
       "      <td>11 Com b</td>\n",
       "      <td>11 Com</td>\n",
       "      <td>2</td>\n",
       "      <td>1</td>\n",
       "      <td>326.03000</td>\n",
       "      <td>1.29</td>\n",
       "      <td>12.1</td>\n",
       "      <td>6165.6000</td>\n",
       "      <td>19.10</td>\n",
       "      <td>0.231</td>\n",
       "      <td>4742.0</td>\n",
       "      <td>2.70</td>\n",
       "      <td>-0.35</td>\n",
       "      <td>93.1846</td>\n",
       "    </tr>\n",
       "    <tr>\n",
       "      <th>1</th>\n",
       "      <td>11 UMi b</td>\n",
       "      <td>11 UMi</td>\n",
       "      <td>1</td>\n",
       "      <td>1</td>\n",
       "      <td>516.21997</td>\n",
       "      <td>1.53</td>\n",
       "      <td>12.3</td>\n",
       "      <td>4684.8142</td>\n",
       "      <td>13.80</td>\n",
       "      <td>0.080</td>\n",
       "      <td>4213.0</td>\n",
       "      <td>2.78</td>\n",
       "      <td>-0.02</td>\n",
       "      <td>125.3210</td>\n",
       "    </tr>\n",
       "    <tr>\n",
       "      <th>2</th>\n",
       "      <td>14 And b</td>\n",
       "      <td>14 And</td>\n",
       "      <td>1</td>\n",
       "      <td>1</td>\n",
       "      <td>185.84000</td>\n",
       "      <td>0.83</td>\n",
       "      <td>12.9</td>\n",
       "      <td>1525.5000</td>\n",
       "      <td>3.90</td>\n",
       "      <td>0.000</td>\n",
       "      <td>4813.0</td>\n",
       "      <td>2.20</td>\n",
       "      <td>-0.24</td>\n",
       "      <td>75.4392</td>\n",
       "    </tr>\n",
       "    <tr>\n",
       "      <th>3</th>\n",
       "      <td>14 Her b</td>\n",
       "      <td>14 Her</td>\n",
       "      <td>1</td>\n",
       "      <td>2</td>\n",
       "      <td>1773.40002</td>\n",
       "      <td>2.93</td>\n",
       "      <td>12.9</td>\n",
       "      <td>1481.0878</td>\n",
       "      <td>3.79</td>\n",
       "      <td>0.370</td>\n",
       "      <td>5338.0</td>\n",
       "      <td>0.90</td>\n",
       "      <td>0.41</td>\n",
       "      <td>17.9323</td>\n",
       "    </tr>\n",
       "    <tr>\n",
       "      <th>4</th>\n",
       "      <td>16 Cyg B b</td>\n",
       "      <td>16 Cyg B</td>\n",
       "      <td>3</td>\n",
       "      <td>1</td>\n",
       "      <td>798.50000</td>\n",
       "      <td>1.66</td>\n",
       "      <td>13.5</td>\n",
       "      <td>565.7374</td>\n",
       "      <td>1.26</td>\n",
       "      <td>0.680</td>\n",
       "      <td>5750.0</td>\n",
       "      <td>1.08</td>\n",
       "      <td>0.06</td>\n",
       "      <td>21.1397</td>\n",
       "    </tr>\n",
       "  </tbody>\n",
       "</table>\n",
       "</div>"
      ],
      "text/plain": [
       "      pl_name  hostname  sy_snum  sy_pnum   pl_orbper  pl_orbsmax  pl_rade  \\\n",
       "0    11 Com b    11 Com        2        1   326.03000        1.29     12.1   \n",
       "1    11 UMi b    11 UMi        1        1   516.21997        1.53     12.3   \n",
       "2    14 And b    14 And        1        1   185.84000        0.83     12.9   \n",
       "3    14 Her b    14 Her        1        2  1773.40002        2.93     12.9   \n",
       "4  16 Cyg B b  16 Cyg B        3        1   798.50000        1.66     13.5   \n",
       "\n",
       "   pl_bmasse  pl_dens  pl_orbeccen  st_teff  st_mass  st_met   sy_dist  \n",
       "0  6165.6000    19.10        0.231   4742.0     2.70   -0.35   93.1846  \n",
       "1  4684.8142    13.80        0.080   4213.0     2.78   -0.02  125.3210  \n",
       "2  1525.5000     3.90        0.000   4813.0     2.20   -0.24   75.4392  \n",
       "3  1481.0878     3.79        0.370   5338.0     0.90    0.41   17.9323  \n",
       "4   565.7374     1.26        0.680   5750.0     1.08    0.06   21.1397  "
      ]
     },
     "execution_count": 3,
     "metadata": {},
     "output_type": "execute_result"
    }
   ],
   "source": [
    "# pregledavanje tablice\n",
    "print(exo_data.shape)\n",
    "exo_data.head()"
   ]
  },
  {
   "cell_type": "markdown",
   "metadata": {},
   "source": [
    "## Osnovne karakteristike egzoplaneta: grafovi"
   ]
  },
  {
   "cell_type": "markdown",
   "metadata": {},
   "source": [
    "Masa nasprem orbitalnog perioda egzoplaneta\n",
    "<br>\n",
    "\n",
    "<br>\n",
    "Uočavamo 4 kategorije egzoplaneta"
   ]
  },
  {
   "cell_type": "code",
   "execution_count": 4,
   "metadata": {},
   "outputs": [],
   "source": [
    "def annotate_countplot(sp, df: pd.DataFrame(), perc_height:float, font_size:int=10):\n",
    "    for p in sp.patches:\n",
    "        height = p.get_height()\n",
    "    \n",
    "        sp.text(p.get_x() + p.get_width()/2., \n",
    "                height + len(df) * perc_height, height,\n",
    "                ha = 'center', fontsize = font_size)"
   ]
  },
  {
   "cell_type": "code",
   "execution_count": 5,
   "metadata": {},
   "outputs": [
    {
     "data": {
      "image/png": "[encoded data removed]",
      "text/plain": [
       "<Figure size 576x360 with 1 Axes>"
      ]
     },
     "metadata": {
      "needs_background": "light"
     },
     "output_type": "display_data"
    }
   ],
   "source": [
    "plt.figure(figsize=(8,5))\n",
    "p = sns.scatterplot(x=np.log(exo_data['pl_orbsmax']),y=np.log(exo_data['pl_bmasse']), alpha=0.5).set(title='Masa nasprem orbitalnom periodu')\n",
    "sns.despine()\n",
    "plt.xlabel('Orbitalni period (dani)')\n",
    "plt.ylabel('Masa ezgoplaneta (masa Zemlje)')\n",
    "plt.show()"
   ]
  },
  {
   "cell_type": "markdown",
   "metadata": {},
   "source": [
    "Brojnost eksentriciteta egzoplaneta"
   ]
  },
  {
   "cell_type": "code",
   "execution_count": 6,
   "metadata": {},
   "outputs": [
    {
     "data": {
      "image/png": "[encoded data removed]",
      "text/plain": [
       "<Figure size 576x360 with 1 Axes>"
      ]
     },
     "metadata": {
      "needs_background": "light"
     },
     "output_type": "display_data"
    }
   ],
   "source": [
    "plt.figure(figsize=(8,5))\n",
    "scp = sns.countplot(x=round(exo_data['pl_orbeccen'],1),palette='Blues_r',data = exo_data)\n",
    "annotate_countplot(scp,exo_data,0.01)\n",
    "sns.despine()\n",
    "plt.xlabel('Ekscentricitet egzoplaneta')\n",
    "plt.ylabel('Brojnost')\n",
    "plt.title('Brojnost ekscentriciteta egzoplaneta')\n",
    "plt.show()"
   ]
  },
  {
   "cell_type": "markdown",
   "metadata": {},
   "source": [
    "Pokazivanje Keplerovog 3. zakona"
   ]
  },
  {
   "cell_type": "code",
   "execution_count": 7,
   "metadata": {},
   "outputs": [
    {
     "data": {
      "image/png": "[encoded data removed]",
      "text/plain": [
       "<Figure size 576x360 with 1 Axes>"
      ]
     },
     "metadata": {
      "needs_background": "light"
     },
     "output_type": "display_data"
    }
   ],
   "source": [
    "plt.figure(figsize=(8,5))\n",
    "sns.scatterplot(x=(exo_data['pl_orbsmax']**3),y=((exo_data['pl_orbper']**2)*exo_data['st_mass']),alpha=0.5).set(title='Orbitalni period egzoplaneta nasprem orbitalnoj udaljenosti')\n",
    "sns.despine()\n",
    "plt.xlabel('Orbitalni period (dani)')\n",
    "plt.ylabel('Udaljenost egzoplaneta od zvijezde (AU)')\n",
    "plt.show()"
   ]
  },
  {
   "cell_type": "code",
   "execution_count": 8,
   "metadata": {},
   "outputs": [],
   "source": [
    "ht = exo_data[exo_data['pl_orbper']<1000].copy()"
   ]
  },
  {
   "cell_type": "code",
   "execution_count": 9,
   "metadata": {},
   "outputs": [
    {
     "data": {
      "text/html": [
       "<div>\n",
       "<style scoped>\n",
       "    .dataframe tbody tr th:only-of-type {\n",
       "        vertical-align: middle;\n",
       "    }\n",
       "\n",
       "    .dataframe tbody tr th {\n",
       "        vertical-align: top;\n",
       "    }\n",
       "\n",
       "    .dataframe thead th {\n",
       "        text-align: right;\n",
       "    }\n",
       "</style>\n",
       "<table border=\"1\" class=\"dataframe\">\n",
       "  <thead>\n",
       "    <tr style=\"text-align: right;\">\n",
       "      <th></th>\n",
       "      <th>pl_name</th>\n",
       "      <th>hostname</th>\n",
       "      <th>sy_snum</th>\n",
       "      <th>sy_pnum</th>\n",
       "      <th>pl_orbper</th>\n",
       "      <th>pl_orbsmax</th>\n",
       "      <th>pl_rade</th>\n",
       "      <th>pl_bmasse</th>\n",
       "      <th>pl_dens</th>\n",
       "      <th>pl_orbeccen</th>\n",
       "      <th>st_teff</th>\n",
       "      <th>st_mass</th>\n",
       "      <th>st_met</th>\n",
       "      <th>sy_dist</th>\n",
       "    </tr>\n",
       "  </thead>\n",
       "  <tbody>\n",
       "    <tr>\n",
       "      <th>0</th>\n",
       "      <td>11 Com b</td>\n",
       "      <td>11 Com</td>\n",
       "      <td>2</td>\n",
       "      <td>1</td>\n",
       "      <td>326.030000</td>\n",
       "      <td>1.290000</td>\n",
       "      <td>12.1</td>\n",
       "      <td>6165.60000</td>\n",
       "      <td>19.100</td>\n",
       "      <td>0.2310</td>\n",
       "      <td>4742.00</td>\n",
       "      <td>2.70</td>\n",
       "      <td>-0.350</td>\n",
       "      <td>93.1846</td>\n",
       "    </tr>\n",
       "    <tr>\n",
       "      <th>1</th>\n",
       "      <td>11 UMi b</td>\n",
       "      <td>11 UMi</td>\n",
       "      <td>1</td>\n",
       "      <td>1</td>\n",
       "      <td>516.219970</td>\n",
       "      <td>1.530000</td>\n",
       "      <td>12.3</td>\n",
       "      <td>4684.81420</td>\n",
       "      <td>13.800</td>\n",
       "      <td>0.0800</td>\n",
       "      <td>4213.00</td>\n",
       "      <td>2.78</td>\n",
       "      <td>-0.020</td>\n",
       "      <td>125.3210</td>\n",
       "    </tr>\n",
       "    <tr>\n",
       "      <th>2</th>\n",
       "      <td>14 And b</td>\n",
       "      <td>14 And</td>\n",
       "      <td>1</td>\n",
       "      <td>1</td>\n",
       "      <td>185.840000</td>\n",
       "      <td>0.830000</td>\n",
       "      <td>12.9</td>\n",
       "      <td>1525.50000</td>\n",
       "      <td>3.900</td>\n",
       "      <td>0.0000</td>\n",
       "      <td>4813.00</td>\n",
       "      <td>2.20</td>\n",
       "      <td>-0.240</td>\n",
       "      <td>75.4392</td>\n",
       "    </tr>\n",
       "    <tr>\n",
       "      <th>4</th>\n",
       "      <td>16 Cyg B b</td>\n",
       "      <td>16 Cyg B</td>\n",
       "      <td>3</td>\n",
       "      <td>1</td>\n",
       "      <td>798.500000</td>\n",
       "      <td>1.660000</td>\n",
       "      <td>13.5</td>\n",
       "      <td>565.73740</td>\n",
       "      <td>1.260</td>\n",
       "      <td>0.6800</td>\n",
       "      <td>5750.00</td>\n",
       "      <td>1.08</td>\n",
       "      <td>0.060</td>\n",
       "      <td>21.1397</td>\n",
       "    </tr>\n",
       "    <tr>\n",
       "      <th>5</th>\n",
       "      <td>17 Sco b</td>\n",
       "      <td>17 Sco</td>\n",
       "      <td>1</td>\n",
       "      <td>1</td>\n",
       "      <td>578.380000</td>\n",
       "      <td>1.450000</td>\n",
       "      <td>12.9</td>\n",
       "      <td>1373.01872</td>\n",
       "      <td>3.510</td>\n",
       "      <td>0.0600</td>\n",
       "      <td>4157.00</td>\n",
       "      <td>1.22</td>\n",
       "      <td>-0.010</td>\n",
       "      <td>124.9530</td>\n",
       "    </tr>\n",
       "    <tr>\n",
       "      <th>...</th>\n",
       "      <td>...</td>\n",
       "      <td>...</td>\n",
       "      <td>...</td>\n",
       "      <td>...</td>\n",
       "      <td>...</td>\n",
       "      <td>...</td>\n",
       "      <td>...</td>\n",
       "      <td>...</td>\n",
       "      <td>...</td>\n",
       "      <td>...</td>\n",
       "      <td>...</td>\n",
       "      <td>...</td>\n",
       "      <td>...</td>\n",
       "      <td>...</td>\n",
       "    </tr>\n",
       "    <tr>\n",
       "      <th>4934</th>\n",
       "      <td>tau Gem b</td>\n",
       "      <td>tau Gem</td>\n",
       "      <td>1</td>\n",
       "      <td>1</td>\n",
       "      <td>305.500000</td>\n",
       "      <td>1.170000</td>\n",
       "      <td>12.1</td>\n",
       "      <td>6547.00000</td>\n",
       "      <td>20.300</td>\n",
       "      <td>0.0310</td>\n",
       "      <td>4388.00</td>\n",
       "      <td>2.30</td>\n",
       "      <td>0.140</td>\n",
       "      <td>112.5370</td>\n",
       "    </tr>\n",
       "    <tr>\n",
       "      <th>4935</th>\n",
       "      <td>ups And b</td>\n",
       "      <td>ups And</td>\n",
       "      <td>2</td>\n",
       "      <td>3</td>\n",
       "      <td>4.617033</td>\n",
       "      <td>0.059222</td>\n",
       "      <td>14.0</td>\n",
       "      <td>218.53100</td>\n",
       "      <td>0.438</td>\n",
       "      <td>0.0215</td>\n",
       "      <td>6156.77</td>\n",
       "      <td>1.30</td>\n",
       "      <td>0.101</td>\n",
       "      <td>13.4054</td>\n",
       "    </tr>\n",
       "    <tr>\n",
       "      <th>4936</th>\n",
       "      <td>ups And c</td>\n",
       "      <td>ups And</td>\n",
       "      <td>2</td>\n",
       "      <td>3</td>\n",
       "      <td>241.258000</td>\n",
       "      <td>0.827774</td>\n",
       "      <td>12.3</td>\n",
       "      <td>4443.24113</td>\n",
       "      <td>13.100</td>\n",
       "      <td>0.2596</td>\n",
       "      <td>6156.77</td>\n",
       "      <td>1.30</td>\n",
       "      <td>0.101</td>\n",
       "      <td>13.4054</td>\n",
       "    </tr>\n",
       "    <tr>\n",
       "      <th>4938</th>\n",
       "      <td>ups Leo b</td>\n",
       "      <td>ups Leo</td>\n",
       "      <td>1</td>\n",
       "      <td>1</td>\n",
       "      <td>385.200000</td>\n",
       "      <td>1.180000</td>\n",
       "      <td>14.2</td>\n",
       "      <td>162.09249</td>\n",
       "      <td>0.311</td>\n",
       "      <td>0.3200</td>\n",
       "      <td>4836.00</td>\n",
       "      <td>1.48</td>\n",
       "      <td>-0.200</td>\n",
       "      <td>52.5973</td>\n",
       "    </tr>\n",
       "    <tr>\n",
       "      <th>4939</th>\n",
       "      <td>xi Aql b</td>\n",
       "      <td>xi Aql</td>\n",
       "      <td>1</td>\n",
       "      <td>1</td>\n",
       "      <td>136.750000</td>\n",
       "      <td>0.680000</td>\n",
       "      <td>13.2</td>\n",
       "      <td>890.00000</td>\n",
       "      <td>2.130</td>\n",
       "      <td>0.0000</td>\n",
       "      <td>4780.00</td>\n",
       "      <td>2.20</td>\n",
       "      <td>-0.205</td>\n",
       "      <td>56.1858</td>\n",
       "    </tr>\n",
       "  </tbody>\n",
       "</table>\n",
       "<p>4503 rows × 14 columns</p>\n",
       "</div>"
      ],
      "text/plain": [
       "         pl_name  hostname  sy_snum  sy_pnum   pl_orbper  pl_orbsmax  pl_rade  \\\n",
       "0       11 Com b    11 Com        2        1  326.030000    1.290000     12.1   \n",
       "1       11 UMi b    11 UMi        1        1  516.219970    1.530000     12.3   \n",
       "2       14 And b    14 And        1        1  185.840000    0.830000     12.9   \n",
       "4     16 Cyg B b  16 Cyg B        3        1  798.500000    1.660000     13.5   \n",
       "5       17 Sco b    17 Sco        1        1  578.380000    1.450000     12.9   \n",
       "...          ...       ...      ...      ...         ...         ...      ...   \n",
       "4934   tau Gem b   tau Gem        1        1  305.500000    1.170000     12.1   \n",
       "4935   ups And b   ups And        2        3    4.617033    0.059222     14.0   \n",
       "4936   ups And c   ups And        2        3  241.258000    0.827774     12.3   \n",
       "4938   ups Leo b   ups Leo        1        1  385.200000    1.180000     14.2   \n",
       "4939    xi Aql b    xi Aql        1        1  136.750000    0.680000     13.2   \n",
       "\n",
       "       pl_bmasse  pl_dens  pl_orbeccen  st_teff  st_mass  st_met   sy_dist  \n",
       "0     6165.60000   19.100       0.2310  4742.00     2.70  -0.350   93.1846  \n",
       "1     4684.81420   13.800       0.0800  4213.00     2.78  -0.020  125.3210  \n",
       "2     1525.50000    3.900       0.0000  4813.00     2.20  -0.240   75.4392  \n",
       "4      565.73740    1.260       0.6800  5750.00     1.08   0.060   21.1397  \n",
       "5     1373.01872    3.510       0.0600  4157.00     1.22  -0.010  124.9530  \n",
       "...          ...      ...          ...      ...      ...     ...       ...  \n",
       "4934  6547.00000   20.300       0.0310  4388.00     2.30   0.140  112.5370  \n",
       "4935   218.53100    0.438       0.0215  6156.77     1.30   0.101   13.4054  \n",
       "4936  4443.24113   13.100       0.2596  6156.77     1.30   0.101   13.4054  \n",
       "4938   162.09249    0.311       0.3200  4836.00     1.48  -0.200   52.5973  \n",
       "4939   890.00000    2.130       0.0000  4780.00     2.20  -0.205   56.1858  \n",
       "\n",
       "[4503 rows x 14 columns]"
      ]
     },
     "execution_count": 9,
     "metadata": {},
     "output_type": "execute_result"
    }
   ],
   "source": [
    "ht"
   ]
  },
  {
   "cell_type": "code",
   "execution_count": 10,
   "metadata": {},
   "outputs": [
    {
     "data": {
      "text/html": [
       "<div>\n",
       "<style scoped>\n",
       "    .dataframe tbody tr th:only-of-type {\n",
       "        vertical-align: middle;\n",
       "    }\n",
       "\n",
       "    .dataframe tbody tr th {\n",
       "        vertical-align: top;\n",
       "    }\n",
       "\n",
       "    .dataframe thead th {\n",
       "        text-align: right;\n",
       "    }\n",
       "</style>\n",
       "<table border=\"1\" class=\"dataframe\">\n",
       "  <thead>\n",
       "    <tr style=\"text-align: right;\">\n",
       "      <th></th>\n",
       "      <th>pl_name</th>\n",
       "      <th>hostname</th>\n",
       "      <th>sy_snum</th>\n",
       "      <th>sy_pnum</th>\n",
       "      <th>pl_orbper</th>\n",
       "      <th>pl_orbsmax</th>\n",
       "      <th>pl_rade</th>\n",
       "      <th>pl_bmasse</th>\n",
       "      <th>pl_dens</th>\n",
       "      <th>pl_orbeccen</th>\n",
       "      <th>st_teff</th>\n",
       "      <th>st_mass</th>\n",
       "      <th>st_met</th>\n",
       "      <th>sy_dist</th>\n",
       "      <th>a</th>\n",
       "      <th>P</th>\n",
       "    </tr>\n",
       "  </thead>\n",
       "  <tbody>\n",
       "    <tr>\n",
       "      <th>829</th>\n",
       "      <td>HD 240237 b</td>\n",
       "      <td>HD 240237</td>\n",
       "      <td>1</td>\n",
       "      <td>1</td>\n",
       "      <td>745.70001</td>\n",
       "      <td>1.92</td>\n",
       "      <td>12.2</td>\n",
       "      <td>5050.3187</td>\n",
       "      <td>15.3</td>\n",
       "      <td>0.4</td>\n",
       "      <td>3926.0</td>\n",
       "      <td>8.76</td>\n",
       "      <td>-0.25</td>\n",
       "      <td>933.377</td>\n",
       "      <td>7.077888</td>\n",
       "      <td>36.563409</td>\n",
       "    </tr>\n",
       "    <tr>\n",
       "      <th>1058</th>\n",
       "      <td>HD 96127 b</td>\n",
       "      <td>HD 96127</td>\n",
       "      <td>1</td>\n",
       "      <td>1</td>\n",
       "      <td>647.29999</td>\n",
       "      <td>1.42</td>\n",
       "      <td>12.1</td>\n",
       "      <td>6661.7168</td>\n",
       "      <td>20.7</td>\n",
       "      <td>0.3</td>\n",
       "      <td>3943.0</td>\n",
       "      <td>10.94</td>\n",
       "      <td>-0.24</td>\n",
       "      <td>587.659</td>\n",
       "      <td>2.863288</td>\n",
       "      <td>34.406682</td>\n",
       "    </tr>\n",
       "  </tbody>\n",
       "</table>\n",
       "</div>"
      ],
      "text/plain": [
       "          pl_name   hostname  sy_snum  sy_pnum  pl_orbper  pl_orbsmax  \\\n",
       "829   HD 240237 b  HD 240237        1        1  745.70001        1.92   \n",
       "1058   HD 96127 b   HD 96127        1        1  647.29999        1.42   \n",
       "\n",
       "      pl_rade  pl_bmasse  pl_dens  pl_orbeccen  st_teff  st_mass  st_met  \\\n",
       "829      12.2  5050.3187     15.3          0.4   3926.0     8.76   -0.25   \n",
       "1058     12.1  6661.7168     20.7          0.3   3943.0    10.94   -0.24   \n",
       "\n",
       "      sy_dist         a          P  \n",
       "829   933.377  7.077888  36.563409  \n",
       "1058  587.659  2.863288  34.406682  "
      ]
     },
     "execution_count": 10,
     "metadata": {},
     "output_type": "execute_result"
    }
   ],
   "source": [
    "ht['a'] = ht['pl_orbsmax']**3\n",
    "ht['P']= ((ht['pl_orbper']/365)**2) * ht['st_mass']\n",
    "ht[ht['P']>25]"
   ]
  },
  {
   "cell_type": "code",
   "execution_count": 12,
   "metadata": {},
   "outputs": [
    {
     "data": {
      "image/png": "[encoded data removed]",
      "text/plain": [
       "<Figure size 1080x360 with 2 Axes>"
      ]
     },
     "metadata": {
      "needs_background": "light"
     },
     "output_type": "display_data"
    }
   ],
   "source": [
    "_,_ = plt.subplots(1,2, figsize=(15,5))\n",
    "plt.suptitle('Pokazivanje Keplerovog 3. zakona')\n",
    "a = ht['pl_orbsmax']**3\n",
    "P = ((ht['pl_orbper']/365)**2) * ht['st_mass']\n",
    "plt.subplot(1,2,1)\n",
    "sns.scatterplot(x=a, y=P)\n",
    "sns.despine()\n",
    "plt.xlim(0,20)\n",
    "plt.ylim(0,20)\n",
    "plt.title('A - bez ektremnih vrijednosti')\n",
    "plt.xlabel('Kvadrat udaljenosti egzoplaneta od zvijezde (AU) * omjer mase zvijezde i mase sunca')\n",
    "plt.ylabel('Orbitalni period (godine) na treću')\n",
    "\n",
    "plt.subplot(1,2,2)\n",
    "sns.scatterplot(x=a, y=P)\n",
    "sns.despine()\n",
    "plt.title('B - svi podaci')\n",
    "plt.xlim(0,(np.max(P)+1))\n",
    "plt.ylim(0,(np.max(P)+1))\n",
    "plt.xlabel('Kvadrat udaljenosti egzoplaneta od zvijezde (AU) * omjer mase zvijezde i mase sunca')\n",
    "plt.ylabel('Orbitalni period (godine) na treću')\n",
    "\n",
    "\n",
    "plt.show()"
   ]
  },
  {
   "cell_type": "markdown",
   "metadata": {},
   "source": [
    "Radijus egzoplaneta nasprem orbitalnom periodu"
   ]
  },
  {
   "cell_type": "code",
   "execution_count": 33,
   "metadata": {},
   "outputs": [
    {
     "data": {
      "image/png": "[encoded data removed]",
      "text/plain": [
       "<Figure size 576x360 with 1 Axes>"
      ]
     },
     "metadata": {
      "needs_background": "light"
     },
     "output_type": "display_data"
    }
   ],
   "source": [
    "plt.figure(figsize=(8,5))\n",
    "sns.scatterplot(x=np.log(exo_data['pl_orbsmax']),y=np.log(exo_data['pl_rade']), alpha=0.5).set(title='Orbitalni period egzoplaneta nasprem radijusa egzoplaneta')\n",
    "sns.despine()\n",
    "plt.xlabel('Orbitalni period (dani)')\n",
    "plt.ylabel('Radijus ezgoplaneta (radijus Zemlje)')\n",
    "plt.show()"
   ]
  },
  {
   "cell_type": "markdown",
   "metadata": {},
   "source": [
    "Gustoća egzoplaneta ovisno o udaljenosti"
   ]
  },
  {
   "cell_type": "code",
   "execution_count": 34,
   "metadata": {},
   "outputs": [
    {
     "data": {
      "image/png": "[encoded data removed]",
      "text/plain": [
       "<Figure size 576x360 with 1 Axes>"
      ]
     },
     "metadata": {
      "needs_background": "light"
     },
     "output_type": "display_data"
    }
   ],
   "source": [
    "plt.figure(figsize=(8,5))\n",
    "sns.scatterplot(x=np.log(exo_data['pl_orbper']),y=np.log(exo_data['pl_dens']), alpha=0.5).set(title='Orbitalni period egzoplaneta nasprem gustoće egzoplaneta')\n",
    "sns.despine()\n",
    "plt.xlabel('Orbitalni period (dani)')\n",
    "plt.ylabel('Gustoća egzoplaneta (g/cm^3)')\n",
    "plt.show()"
   ]
  },
  {
   "cell_type": "markdown",
   "metadata": {},
   "source": [
    "## Kategorizacija egzoplaneta po masi i radijusu"
   ]
  },
  {
   "cell_type": "markdown",
   "metadata": {},
   "source": [
    "Četiri kategorije:\n",
    "- Terestrički\n",
    "- Super Zemlje\n",
    "- Slični Neptunu\n",
    "- Plinoviti divovi"
   ]
  },
  {
   "cell_type": "code",
   "execution_count": 35,
   "metadata": {},
   "outputs": [
    {
     "data": {
      "text/plain": [
       "23827"
      ]
     },
     "execution_count": 35,
     "metadata": {},
     "output_type": "execute_result"
    }
   ],
   "source": [
    "for row in range(exo_data.shape[0]):\n",
    "    r = exo_data.loc[row,'pl_rade']      # preuzmi radijus\n",
    "    m = exo_data.loc[row,'pl_bmasse']    # preuzmi masu\n",
    "\n",
    "    # ==== IMA RADIJUS =====\n",
    "    if (np.isnan(m) and not np.isnan(r)):\n",
    "        if (r < 1.6):\n",
    "            exo_data.loc[row, 'exo_class'] = \"Terestrički\"\n",
    "        elif (r >= 1.6) and (r < 2.5):\n",
    "            exo_data.loc[row, 'exo_class'] = \"Super Zemlja\"\n",
    "        elif (r >= 2.5) and (r < 10):\n",
    "            exo_data.loc[row, 'exo_class'] = \"Slični Neptunu\"\n",
    "        elif (r >= 10):\n",
    "            exo_data.loc[row, 'exo_class'] = \"Plinoviti div\"\n",
    "    # ==== IMA MASU =====\n",
    "    elif (np.isnan(m) == False):\n",
    "        if (m < 1):\n",
    "            exo_data.loc[row, 'exo_class'] = \"Terestrički\"\n",
    "        elif (m >= 1) and (m < 6):\n",
    "            exo_data.loc[row, 'exo_class'] = \"Super Zemlja\"\n",
    "        elif (m >= 6) and (m < 60):\n",
    "            exo_data.loc[row, 'exo_class'] = \"Slični Neptunu\"\n",
    "        elif (m >= 60):\n",
    "            exo_data.loc[row, 'exo_class'] = \"Plinoviti div\"\n",
    "\n",
    "del m,r,row\n",
    "gc.collect()"
   ]
  },
  {
   "cell_type": "code",
   "execution_count": 36,
   "metadata": {},
   "outputs": [
    {
     "data": {
      "text/plain": [
       "Super Zemlja      1707\n",
       "Slični Neptunu    1614\n",
       "Plinoviti div     1436\n",
       "Terestrički        178\n",
       "Name: exo_class, dtype: int64"
      ]
     },
     "execution_count": 36,
     "metadata": {},
     "output_type": "execute_result"
    }
   ],
   "source": [
    "exo_data.exo_class.value_counts()"
   ]
  },
  {
   "cell_type": "markdown",
   "metadata": {},
   "source": [
    "Za one vrijednosti koje su `NaN` koristim funkciju `fillna()` kako bi se na tim mjestima postavio pravi NaN a ne `string` NaN"
   ]
  },
  {
   "cell_type": "code",
   "execution_count": 37,
   "metadata": {},
   "outputs": [
    {
     "name": "stdout",
     "output_type": "stream",
     "text": [
      "5\n"
     ]
    }
   ],
   "source": [
    "print(exo_data.exo_class.isnull().sum())\n",
    "exo_data['exo_class'] = exo_data.exo_class.fillna(np.nan)"
   ]
  },
  {
   "cell_type": "markdown",
   "metadata": {},
   "source": [
    "## Kategorizacija egzoplaneta po udaljenosti od zvijezde"
   ]
  },
  {
   "cell_type": "markdown",
   "metadata": {},
   "source": [
    "Dvije kategorije:\n",
    "- Vrući Neptuni\n",
    "- Vrući Jupiteri"
   ]
  },
  {
   "cell_type": "markdown",
   "metadata": {},
   "source": [
    "**POSTUPAK**\n",
    "1. Napraviti novi kolonu gdje je prvo sve `NaN`\n",
    "2. Kategorizirati egzoplanete po skali te upisati samo te vrijednosti u novu kolonu `exo_class_ext`\n",
    "3. Provjeriti je li sve ok! Napraviti *crosstab* od `exo_class` i `exo_class_ext` te vidjeti štima li sve!\n",
    "4. prebaciti vrijednosti iz `exo_class` u novu kolonu sa samo `fillna`"
   ]
  },
  {
   "cell_type": "code",
   "execution_count": 38,
   "metadata": {},
   "outputs": [
    {
     "data": {
      "text/plain": [
       "2905"
      ]
     },
     "execution_count": 38,
     "metadata": {},
     "output_type": "execute_result"
    }
   ],
   "source": [
    "exo_data['exo_class_ext'] = np.nan\n",
    "for row in range(exo_data.shape[0]):\n",
    "    p = exo_data.loc[row,'pl_orbper']      \n",
    "    c = exo_data.loc[row,'exo_class'] \n",
    "    if (p > 0) and (p < 4) and (c == \"Slični Neptunu\"): # Research paper\n",
    "        exo_data.loc[row, 'exo_class_ext'] = \"Vrući Neptun\"\n",
    "    elif (p > 0) and (p < 10) and (c == \"Plinoviti div\"): # Research paper\n",
    "        exo_data.loc[row, 'exo_class_ext'] = \"Vrući Jupiter\"\n",
    "del p,c,row\n",
    "gc.collect()"
   ]
  },
  {
   "cell_type": "code",
   "execution_count": 39,
   "metadata": {},
   "outputs": [
    {
     "data": {
      "text/html": [
       "<div>\n",
       "<style scoped>\n",
       "    .dataframe tbody tr th:only-of-type {\n",
       "        vertical-align: middle;\n",
       "    }\n",
       "\n",
       "    .dataframe tbody tr th {\n",
       "        vertical-align: top;\n",
       "    }\n",
       "\n",
       "    .dataframe thead th {\n",
       "        text-align: right;\n",
       "    }\n",
       "</style>\n",
       "<table border=\"1\" class=\"dataframe\">\n",
       "  <thead>\n",
       "    <tr style=\"text-align: right;\">\n",
       "      <th>exo_class_ext</th>\n",
       "      <th>Vrući Jupiter</th>\n",
       "      <th>Vrući Neptun</th>\n",
       "    </tr>\n",
       "    <tr>\n",
       "      <th>exo_class</th>\n",
       "      <th></th>\n",
       "      <th></th>\n",
       "    </tr>\n",
       "  </thead>\n",
       "  <tbody>\n",
       "    <tr>\n",
       "      <th>Plinoviti div</th>\n",
       "      <td>572</td>\n",
       "      <td>0</td>\n",
       "    </tr>\n",
       "    <tr>\n",
       "      <th>Slični Neptunu</th>\n",
       "      <td>0</td>\n",
       "      <td>133</td>\n",
       "    </tr>\n",
       "  </tbody>\n",
       "</table>\n",
       "</div>"
      ],
      "text/plain": [
       "exo_class_ext   Vrući Jupiter  Vrući Neptun\n",
       "exo_class                                  \n",
       "Plinoviti div             572             0\n",
       "Slični Neptunu              0           133"
      ]
     },
     "execution_count": 39,
     "metadata": {},
     "output_type": "execute_result"
    }
   ],
   "source": [
    "test = pd.crosstab(exo_data['exo_class'],exo_data['exo_class_ext'])\n",
    "test.head()"
   ]
  },
  {
   "cell_type": "code",
   "execution_count": 40,
   "metadata": {},
   "outputs": [
    {
     "data": {
      "text/html": [
       "<div>\n",
       "<style scoped>\n",
       "    .dataframe tbody tr th:only-of-type {\n",
       "        vertical-align: middle;\n",
       "    }\n",
       "\n",
       "    .dataframe tbody tr th {\n",
       "        vertical-align: top;\n",
       "    }\n",
       "\n",
       "    .dataframe thead th {\n",
       "        text-align: right;\n",
       "    }\n",
       "</style>\n",
       "<table border=\"1\" class=\"dataframe\">\n",
       "  <thead>\n",
       "    <tr style=\"text-align: right;\">\n",
       "      <th></th>\n",
       "      <th>pl_name</th>\n",
       "      <th>hostname</th>\n",
       "      <th>sy_snum</th>\n",
       "      <th>sy_pnum</th>\n",
       "      <th>pl_orbper</th>\n",
       "      <th>pl_orbsmax</th>\n",
       "      <th>pl_rade</th>\n",
       "      <th>pl_bmasse</th>\n",
       "      <th>pl_dens</th>\n",
       "      <th>pl_orbeccen</th>\n",
       "      <th>st_teff</th>\n",
       "      <th>st_mass</th>\n",
       "      <th>st_met</th>\n",
       "      <th>sy_dist</th>\n",
       "      <th>exo_class</th>\n",
       "      <th>exo_class_ext</th>\n",
       "    </tr>\n",
       "  </thead>\n",
       "  <tbody>\n",
       "    <tr>\n",
       "      <th>0</th>\n",
       "      <td>11 Com b</td>\n",
       "      <td>11 Com</td>\n",
       "      <td>2</td>\n",
       "      <td>1</td>\n",
       "      <td>326.03000</td>\n",
       "      <td>1.29</td>\n",
       "      <td>12.1</td>\n",
       "      <td>6165.6000</td>\n",
       "      <td>19.10</td>\n",
       "      <td>0.231</td>\n",
       "      <td>4742.0</td>\n",
       "      <td>2.70</td>\n",
       "      <td>-0.35</td>\n",
       "      <td>93.1846</td>\n",
       "      <td>Plinoviti div</td>\n",
       "      <td>Plinoviti div</td>\n",
       "    </tr>\n",
       "    <tr>\n",
       "      <th>1</th>\n",
       "      <td>11 UMi b</td>\n",
       "      <td>11 UMi</td>\n",
       "      <td>1</td>\n",
       "      <td>1</td>\n",
       "      <td>516.21997</td>\n",
       "      <td>1.53</td>\n",
       "      <td>12.3</td>\n",
       "      <td>4684.8142</td>\n",
       "      <td>13.80</td>\n",
       "      <td>0.080</td>\n",
       "      <td>4213.0</td>\n",
       "      <td>2.78</td>\n",
       "      <td>-0.02</td>\n",
       "      <td>125.3210</td>\n",
       "      <td>Plinoviti div</td>\n",
       "      <td>Plinoviti div</td>\n",
       "    </tr>\n",
       "    <tr>\n",
       "      <th>2</th>\n",
       "      <td>14 And b</td>\n",
       "      <td>14 And</td>\n",
       "      <td>1</td>\n",
       "      <td>1</td>\n",
       "      <td>185.84000</td>\n",
       "      <td>0.83</td>\n",
       "      <td>12.9</td>\n",
       "      <td>1525.5000</td>\n",
       "      <td>3.90</td>\n",
       "      <td>0.000</td>\n",
       "      <td>4813.0</td>\n",
       "      <td>2.20</td>\n",
       "      <td>-0.24</td>\n",
       "      <td>75.4392</td>\n",
       "      <td>Plinoviti div</td>\n",
       "      <td>Plinoviti div</td>\n",
       "    </tr>\n",
       "    <tr>\n",
       "      <th>3</th>\n",
       "      <td>14 Her b</td>\n",
       "      <td>14 Her</td>\n",
       "      <td>1</td>\n",
       "      <td>2</td>\n",
       "      <td>1773.40002</td>\n",
       "      <td>2.93</td>\n",
       "      <td>12.9</td>\n",
       "      <td>1481.0878</td>\n",
       "      <td>3.79</td>\n",
       "      <td>0.370</td>\n",
       "      <td>5338.0</td>\n",
       "      <td>0.90</td>\n",
       "      <td>0.41</td>\n",
       "      <td>17.9323</td>\n",
       "      <td>Plinoviti div</td>\n",
       "      <td>Plinoviti div</td>\n",
       "    </tr>\n",
       "    <tr>\n",
       "      <th>4</th>\n",
       "      <td>16 Cyg B b</td>\n",
       "      <td>16 Cyg B</td>\n",
       "      <td>3</td>\n",
       "      <td>1</td>\n",
       "      <td>798.50000</td>\n",
       "      <td>1.66</td>\n",
       "      <td>13.5</td>\n",
       "      <td>565.7374</td>\n",
       "      <td>1.26</td>\n",
       "      <td>0.680</td>\n",
       "      <td>5750.0</td>\n",
       "      <td>1.08</td>\n",
       "      <td>0.06</td>\n",
       "      <td>21.1397</td>\n",
       "      <td>Plinoviti div</td>\n",
       "      <td>Plinoviti div</td>\n",
       "    </tr>\n",
       "  </tbody>\n",
       "</table>\n",
       "</div>"
      ],
      "text/plain": [
       "      pl_name  hostname  sy_snum  sy_pnum   pl_orbper  pl_orbsmax  pl_rade  \\\n",
       "0    11 Com b    11 Com        2        1   326.03000        1.29     12.1   \n",
       "1    11 UMi b    11 UMi        1        1   516.21997        1.53     12.3   \n",
       "2    14 And b    14 And        1        1   185.84000        0.83     12.9   \n",
       "3    14 Her b    14 Her        1        2  1773.40002        2.93     12.9   \n",
       "4  16 Cyg B b  16 Cyg B        3        1   798.50000        1.66     13.5   \n",
       "\n",
       "   pl_bmasse  pl_dens  pl_orbeccen  st_teff  st_mass  st_met   sy_dist  \\\n",
       "0  6165.6000    19.10        0.231   4742.0     2.70   -0.35   93.1846   \n",
       "1  4684.8142    13.80        0.080   4213.0     2.78   -0.02  125.3210   \n",
       "2  1525.5000     3.90        0.000   4813.0     2.20   -0.24   75.4392   \n",
       "3  1481.0878     3.79        0.370   5338.0     0.90    0.41   17.9323   \n",
       "4   565.7374     1.26        0.680   5750.0     1.08    0.06   21.1397   \n",
       "\n",
       "       exo_class  exo_class_ext  \n",
       "0  Plinoviti div  Plinoviti div  \n",
       "1  Plinoviti div  Plinoviti div  \n",
       "2  Plinoviti div  Plinoviti div  \n",
       "3  Plinoviti div  Plinoviti div  \n",
       "4  Plinoviti div  Plinoviti div  "
      ]
     },
     "execution_count": 40,
     "metadata": {},
     "output_type": "execute_result"
    }
   ],
   "source": [
    "exo_data['exo_class_ext'] = exo_data['exo_class_ext'].fillna(exo_data['exo_class'])\n",
    "exo_data.head()"
   ]
  },
  {
   "cell_type": "code",
   "execution_count": 41,
   "metadata": {},
   "outputs": [
    {
     "data": {
      "text/plain": [
       "Super Zemlja      1707\n",
       "Slični Neptunu    1614\n",
       "Plinoviti div     1436\n",
       "Terestrički        178\n",
       "Name: exo_class, dtype: int64"
      ]
     },
     "execution_count": 41,
     "metadata": {},
     "output_type": "execute_result"
    }
   ],
   "source": [
    "# Check old classification\n",
    "exo_data['exo_class'].value_counts()"
   ]
  },
  {
   "cell_type": "markdown",
   "metadata": {},
   "source": [
    "## Sumiranje egzoplaneta u tablice"
   ]
  },
  {
   "cell_type": "markdown",
   "metadata": {},
   "source": [
    "### Broj planeta u sustavu i tip egzoplaneta"
   ]
  },
  {
   "cell_type": "code",
   "execution_count": 42,
   "metadata": {},
   "outputs": [
    {
     "data": {
      "text/html": [
       "<div>\n",
       "<style scoped>\n",
       "    .dataframe tbody tr th:only-of-type {\n",
       "        vertical-align: middle;\n",
       "    }\n",
       "\n",
       "    .dataframe tbody tr th {\n",
       "        vertical-align: top;\n",
       "    }\n",
       "\n",
       "    .dataframe thead th {\n",
       "        text-align: right;\n",
       "    }\n",
       "</style>\n",
       "<table border=\"1\" class=\"dataframe\">\n",
       "  <thead>\n",
       "    <tr style=\"text-align: right;\">\n",
       "      <th>sy_pnum</th>\n",
       "      <th>1</th>\n",
       "      <th>2</th>\n",
       "      <th>3</th>\n",
       "      <th>4</th>\n",
       "      <th>5</th>\n",
       "      <th>6</th>\n",
       "      <th>7</th>\n",
       "      <th>8</th>\n",
       "    </tr>\n",
       "    <tr>\n",
       "      <th>exo_class_ext</th>\n",
       "      <th></th>\n",
       "      <th></th>\n",
       "      <th></th>\n",
       "      <th></th>\n",
       "      <th></th>\n",
       "      <th></th>\n",
       "      <th></th>\n",
       "      <th></th>\n",
       "    </tr>\n",
       "  </thead>\n",
       "  <tbody>\n",
       "    <tr>\n",
       "      <th>Plinoviti div</th>\n",
       "      <td>572</td>\n",
       "      <td>211</td>\n",
       "      <td>44</td>\n",
       "      <td>25</td>\n",
       "      <td>6</td>\n",
       "      <td>4</td>\n",
       "      <td>0</td>\n",
       "      <td>2</td>\n",
       "    </tr>\n",
       "    <tr>\n",
       "      <th>Slični Neptunu</th>\n",
       "      <td>732</td>\n",
       "      <td>367</td>\n",
       "      <td>222</td>\n",
       "      <td>84</td>\n",
       "      <td>49</td>\n",
       "      <td>24</td>\n",
       "      <td>0</td>\n",
       "      <td>3</td>\n",
       "    </tr>\n",
       "    <tr>\n",
       "      <th>Super Zemlja</th>\n",
       "      <td>886</td>\n",
       "      <td>396</td>\n",
       "      <td>224</td>\n",
       "      <td>117</td>\n",
       "      <td>60</td>\n",
       "      <td>17</td>\n",
       "      <td>4</td>\n",
       "      <td>3</td>\n",
       "    </tr>\n",
       "    <tr>\n",
       "      <th>Terestrički</th>\n",
       "      <td>93</td>\n",
       "      <td>39</td>\n",
       "      <td>24</td>\n",
       "      <td>12</td>\n",
       "      <td>7</td>\n",
       "      <td>0</td>\n",
       "      <td>3</td>\n",
       "      <td>0</td>\n",
       "    </tr>\n",
       "    <tr>\n",
       "      <th>Vrući Jupiter</th>\n",
       "      <td>526</td>\n",
       "      <td>33</td>\n",
       "      <td>9</td>\n",
       "      <td>2</td>\n",
       "      <td>2</td>\n",
       "      <td>0</td>\n",
       "      <td>0</td>\n",
       "      <td>0</td>\n",
       "    </tr>\n",
       "    <tr>\n",
       "      <th>Vrući Neptun</th>\n",
       "      <td>85</td>\n",
       "      <td>22</td>\n",
       "      <td>14</td>\n",
       "      <td>8</td>\n",
       "      <td>1</td>\n",
       "      <td>3</td>\n",
       "      <td>0</td>\n",
       "      <td>0</td>\n",
       "    </tr>\n",
       "  </tbody>\n",
       "</table>\n",
       "</div>"
      ],
      "text/plain": [
       "sy_pnum           1    2    3    4   5   6  7  8\n",
       "exo_class_ext                                   \n",
       "Plinoviti div   572  211   44   25   6   4  0  2\n",
       "Slični Neptunu  732  367  222   84  49  24  0  3\n",
       "Super Zemlja    886  396  224  117  60  17  4  3\n",
       "Terestrički      93   39   24   12   7   0  3  0\n",
       "Vrući Jupiter   526   33    9    2   2   0  0  0\n",
       "Vrući Neptun     85   22   14    8   1   3  0  0"
      ]
     },
     "execution_count": 42,
     "metadata": {},
     "output_type": "execute_result"
    }
   ],
   "source": [
    "pl_num = pd.crosstab(exo_data['exo_class_ext'],exo_data['sy_pnum'])\n",
    "pd.DataFrame(pl_num)\n",
    "pl_num.head(10)"
   ]
  },
  {
   "cell_type": "markdown",
   "metadata": {},
   "source": [
    "### Tablica sa brojem zvijezde prema tipu egzoplaneta"
   ]
  },
  {
   "cell_type": "code",
   "execution_count": 43,
   "metadata": {},
   "outputs": [
    {
     "data": {
      "text/html": [
       "<div>\n",
       "<style scoped>\n",
       "    .dataframe tbody tr th:only-of-type {\n",
       "        vertical-align: middle;\n",
       "    }\n",
       "\n",
       "    .dataframe tbody tr th {\n",
       "        vertical-align: top;\n",
       "    }\n",
       "\n",
       "    .dataframe thead th {\n",
       "        text-align: right;\n",
       "    }\n",
       "</style>\n",
       "<table border=\"1\" class=\"dataframe\">\n",
       "  <thead>\n",
       "    <tr style=\"text-align: right;\">\n",
       "      <th>sy_snum</th>\n",
       "      <th>1</th>\n",
       "      <th>2</th>\n",
       "      <th>3</th>\n",
       "      <th>4</th>\n",
       "    </tr>\n",
       "    <tr>\n",
       "      <th>exo_class_ext</th>\n",
       "      <th></th>\n",
       "      <th></th>\n",
       "      <th></th>\n",
       "      <th></th>\n",
       "    </tr>\n",
       "  </thead>\n",
       "  <tbody>\n",
       "    <tr>\n",
       "      <th>Plinoviti div</th>\n",
       "      <td>704</td>\n",
       "      <td>136</td>\n",
       "      <td>22</td>\n",
       "      <td>2</td>\n",
       "    </tr>\n",
       "    <tr>\n",
       "      <th>Slični Neptunu</th>\n",
       "      <td>1395</td>\n",
       "      <td>83</td>\n",
       "      <td>3</td>\n",
       "      <td>0</td>\n",
       "    </tr>\n",
       "    <tr>\n",
       "      <th>Super Zemlja</th>\n",
       "      <td>1633</td>\n",
       "      <td>65</td>\n",
       "      <td>9</td>\n",
       "      <td>0</td>\n",
       "    </tr>\n",
       "    <tr>\n",
       "      <th>Terestrički</th>\n",
       "      <td>161</td>\n",
       "      <td>12</td>\n",
       "      <td>5</td>\n",
       "      <td>0</td>\n",
       "    </tr>\n",
       "    <tr>\n",
       "      <th>Vrući Jupiter</th>\n",
       "      <td>463</td>\n",
       "      <td>94</td>\n",
       "      <td>15</td>\n",
       "      <td>0</td>\n",
       "    </tr>\n",
       "    <tr>\n",
       "      <th>Vrući Neptun</th>\n",
       "      <td>124</td>\n",
       "      <td>9</td>\n",
       "      <td>0</td>\n",
       "      <td>0</td>\n",
       "    </tr>\n",
       "  </tbody>\n",
       "</table>\n",
       "</div>"
      ],
      "text/plain": [
       "sy_snum            1    2   3  4\n",
       "exo_class_ext                   \n",
       "Plinoviti div    704  136  22  2\n",
       "Slični Neptunu  1395   83   3  0\n",
       "Super Zemlja    1633   65   9  0\n",
       "Terestrički      161   12   5  0\n",
       "Vrući Jupiter    463   94  15  0\n",
       "Vrući Neptun     124    9   0  0"
      ]
     },
     "execution_count": 43,
     "metadata": {},
     "output_type": "execute_result"
    }
   ],
   "source": [
    "st_num = pd.crosstab(exo_data['exo_class_ext'],exo_data['sy_snum'])\n",
    "pd.DataFrame(st_num)\n",
    "st_num.head(10)"
   ]
  },
  {
   "cell_type": "markdown",
   "metadata": {},
   "source": [
    "### Summary tablica sa masom, radijusom, gustoćom i eksentricitetom za svaku vrstu egzoplaneta"
   ]
  },
  {
   "cell_type": "markdown",
   "metadata": {},
   "source": [
    "**NOTE**\n",
    "<br>\n",
    "Koristiti `median` umjesto `mean` budući da su neke vrijednost abnormalno velike, te ako koristim `mean` potegnut će mi ostale vrijednost i neće biti točno. Bolje koristiti `median`, jer je preciznije i bolje. "
   ]
  },
  {
   "cell_type": "code",
   "execution_count": 44,
   "metadata": {},
   "outputs": [
    {
     "data": {
      "text/html": [
       "<div>\n",
       "<style scoped>\n",
       "    .dataframe tbody tr th:only-of-type {\n",
       "        vertical-align: middle;\n",
       "    }\n",
       "\n",
       "    .dataframe tbody tr th {\n",
       "        vertical-align: top;\n",
       "    }\n",
       "\n",
       "    .dataframe thead th {\n",
       "        text-align: right;\n",
       "    }\n",
       "</style>\n",
       "<table border=\"1\" class=\"dataframe\">\n",
       "  <thead>\n",
       "    <tr style=\"text-align: right;\">\n",
       "      <th></th>\n",
       "      <th>Masa</th>\n",
       "      <th>Radijus</th>\n",
       "      <th>Gustoca</th>\n",
       "      <th>Eksentricitet</th>\n",
       "    </tr>\n",
       "  </thead>\n",
       "  <tbody>\n",
       "    <tr>\n",
       "      <th>Plinoviti div</th>\n",
       "      <td>723.92175</td>\n",
       "      <td>13.10</td>\n",
       "      <td>1.780</td>\n",
       "      <td>0.1825</td>\n",
       "    </tr>\n",
       "    <tr>\n",
       "      <th>Vrući Jupiter</th>\n",
       "      <td>299.07803</td>\n",
       "      <td>13.60</td>\n",
       "      <td>0.665</td>\n",
       "      <td>0.0000</td>\n",
       "    </tr>\n",
       "    <tr>\n",
       "      <th>Slični Neptunu</th>\n",
       "      <td>9.60000</td>\n",
       "      <td>2.93</td>\n",
       "      <td>1.950</td>\n",
       "      <td>0.0000</td>\n",
       "    </tr>\n",
       "    <tr>\n",
       "      <th>Vrući Neptun</th>\n",
       "      <td>8.91000</td>\n",
       "      <td>2.83</td>\n",
       "      <td>2.090</td>\n",
       "      <td>0.0000</td>\n",
       "    </tr>\n",
       "    <tr>\n",
       "      <th>Super Zemlja</th>\n",
       "      <td>3.29000</td>\n",
       "      <td>1.62</td>\n",
       "      <td>4.180</td>\n",
       "      <td>0.0000</td>\n",
       "    </tr>\n",
       "    <tr>\n",
       "      <th>Terestrički</th>\n",
       "      <td>0.56600</td>\n",
       "      <td>0.86</td>\n",
       "      <td>4.890</td>\n",
       "      <td>0.0000</td>\n",
       "    </tr>\n",
       "    <tr>\n",
       "      <th>NaN</th>\n",
       "      <td>NaN</td>\n",
       "      <td>NaN</td>\n",
       "      <td>NaN</td>\n",
       "      <td>NaN</td>\n",
       "    </tr>\n",
       "  </tbody>\n",
       "</table>\n",
       "</div>"
      ],
      "text/plain": [
       "                     Masa  Radijus  Gustoca  Eksentricitet\n",
       "Plinoviti div   723.92175    13.10    1.780         0.1825\n",
       "Vrući Jupiter   299.07803    13.60    0.665         0.0000\n",
       "Slični Neptunu    9.60000     2.93    1.950         0.0000\n",
       "Vrući Neptun      8.91000     2.83    2.090         0.0000\n",
       "Super Zemlja      3.29000     1.62    4.180         0.0000\n",
       "Terestrički       0.56600     0.86    4.890         0.0000\n",
       "NaN                   NaN      NaN      NaN            NaN"
      ]
     },
     "execution_count": 44,
     "metadata": {},
     "output_type": "execute_result"
    }
   ],
   "source": [
    "medijan_mase = exo_data.groupby('exo_class_ext')['pl_bmasse'].agg('median').to_dict()\n",
    "medijan_gustoce = exo_data.groupby('exo_class_ext')['pl_dens'].agg('median').to_dict()\n",
    "medijan_radijusa = exo_data.groupby('exo_class_ext')['pl_rade'].agg('median').to_dict()\n",
    "medijan_eks = exo_data.groupby('exo_class_ext')['pl_orbeccen'].agg('median').to_dict()\n",
    "\n",
    "summary = pd.DataFrame(index=exo_data['exo_class_ext'].unique())\n",
    "summary['Masa'] = summary.index.map(medijan_mase)\n",
    "summary['Radijus'] = summary.index.map(medijan_radijusa)\n",
    "summary['Gustoca'] = summary.index.map(medijan_gustoce)\n",
    "summary['Eksentricitet'] = summary.index.map(medijan_eks)\n",
    "summary"
   ]
  },
  {
   "cell_type": "markdown",
   "metadata": {},
   "source": [
    "### Postotak vrsta egzoplaneta"
   ]
  },
  {
   "cell_type": "markdown",
   "metadata": {},
   "source": [
    "**NOTE**\n",
    "<br>\n",
    "- Koristiti funkciju koja automatizira proces\n",
    "- round na 2 decimale\n",
    "- koristi shape tablice a ne fiksiran broj, profesionalno i točnije"
   ]
  },
  {
   "cell_type": "code",
   "execution_count": 45,
   "metadata": {},
   "outputs": [
    {
     "name": "stdout",
     "output_type": "stream",
     "text": [
      "Postotak1707 = 34.55%\n",
      "Postotak1481 = 29.98%\n",
      "Postotak864 = 17.49%\n",
      "Postotak572 = 11.58%\n",
      "Postotak178 = 3.6%\n",
      "Postotak133 = 2.69%\n"
     ]
    }
   ],
   "source": [
    "count = exo_data['exo_class_ext'].value_counts()\n",
    "n = count.shape[0]\n",
    "for i in range(n):\n",
    "    planet_type = count[i]\n",
    "    perc_value = planet_type/exo_data.shape[0]\n",
    "    print(f'Postotak{planet_type} = {np.round(perc_value*100,2)}%')\n"
   ]
  },
  {
   "cell_type": "markdown",
   "metadata": {},
   "source": [
    "## Planetarni sustavi"
   ]
  },
  {
   "cell_type": "markdown",
   "metadata": {},
   "source": [
    "Ovdje ću napraviti 2 tablice, `ct` i `dt`. `ct` je tablica gdje ću brojati vrste egzoplaneta, a tablica `dt` je mjesto gdje ću prepisivati sve ostale podatke zvijezde, grupirati po `hostname` te spojiti sve zajedno u tablicu `planetary_systems`."
   ]
  },
  {
   "cell_type": "code",
   "execution_count": 46,
   "metadata": {},
   "outputs": [
    {
     "data": {
      "text/html": [
       "<div>\n",
       "<style scoped>\n",
       "    .dataframe tbody tr th:only-of-type {\n",
       "        vertical-align: middle;\n",
       "    }\n",
       "\n",
       "    .dataframe tbody tr th {\n",
       "        vertical-align: top;\n",
       "    }\n",
       "\n",
       "    .dataframe thead th {\n",
       "        text-align: right;\n",
       "    }\n",
       "</style>\n",
       "<table border=\"1\" class=\"dataframe\">\n",
       "  <thead>\n",
       "    <tr style=\"text-align: right;\">\n",
       "      <th></th>\n",
       "      <th>pl_name</th>\n",
       "      <th>hostname</th>\n",
       "      <th>sy_snum</th>\n",
       "      <th>sy_pnum</th>\n",
       "      <th>pl_orbper</th>\n",
       "      <th>pl_orbsmax</th>\n",
       "      <th>pl_rade</th>\n",
       "      <th>pl_bmasse</th>\n",
       "      <th>pl_dens</th>\n",
       "      <th>pl_orbeccen</th>\n",
       "      <th>st_teff</th>\n",
       "      <th>st_mass</th>\n",
       "      <th>st_met</th>\n",
       "      <th>sy_dist</th>\n",
       "      <th>exo_class</th>\n",
       "      <th>exo_class_ext</th>\n",
       "    </tr>\n",
       "  </thead>\n",
       "  <tbody>\n",
       "    <tr>\n",
       "      <th>0</th>\n",
       "      <td>11 Com b</td>\n",
       "      <td>11 Com</td>\n",
       "      <td>2</td>\n",
       "      <td>1</td>\n",
       "      <td>326.03000</td>\n",
       "      <td>1.29</td>\n",
       "      <td>12.1</td>\n",
       "      <td>6165.6000</td>\n",
       "      <td>19.10</td>\n",
       "      <td>0.231</td>\n",
       "      <td>4742.0</td>\n",
       "      <td>2.70</td>\n",
       "      <td>-0.35</td>\n",
       "      <td>93.1846</td>\n",
       "      <td>Plinoviti div</td>\n",
       "      <td>Plinoviti div</td>\n",
       "    </tr>\n",
       "    <tr>\n",
       "      <th>1</th>\n",
       "      <td>11 UMi b</td>\n",
       "      <td>11 UMi</td>\n",
       "      <td>1</td>\n",
       "      <td>1</td>\n",
       "      <td>516.21997</td>\n",
       "      <td>1.53</td>\n",
       "      <td>12.3</td>\n",
       "      <td>4684.8142</td>\n",
       "      <td>13.80</td>\n",
       "      <td>0.080</td>\n",
       "      <td>4213.0</td>\n",
       "      <td>2.78</td>\n",
       "      <td>-0.02</td>\n",
       "      <td>125.3210</td>\n",
       "      <td>Plinoviti div</td>\n",
       "      <td>Plinoviti div</td>\n",
       "    </tr>\n",
       "    <tr>\n",
       "      <th>2</th>\n",
       "      <td>14 And b</td>\n",
       "      <td>14 And</td>\n",
       "      <td>1</td>\n",
       "      <td>1</td>\n",
       "      <td>185.84000</td>\n",
       "      <td>0.83</td>\n",
       "      <td>12.9</td>\n",
       "      <td>1525.5000</td>\n",
       "      <td>3.90</td>\n",
       "      <td>0.000</td>\n",
       "      <td>4813.0</td>\n",
       "      <td>2.20</td>\n",
       "      <td>-0.24</td>\n",
       "      <td>75.4392</td>\n",
       "      <td>Plinoviti div</td>\n",
       "      <td>Plinoviti div</td>\n",
       "    </tr>\n",
       "    <tr>\n",
       "      <th>3</th>\n",
       "      <td>14 Her b</td>\n",
       "      <td>14 Her</td>\n",
       "      <td>1</td>\n",
       "      <td>2</td>\n",
       "      <td>1773.40002</td>\n",
       "      <td>2.93</td>\n",
       "      <td>12.9</td>\n",
       "      <td>1481.0878</td>\n",
       "      <td>3.79</td>\n",
       "      <td>0.370</td>\n",
       "      <td>5338.0</td>\n",
       "      <td>0.90</td>\n",
       "      <td>0.41</td>\n",
       "      <td>17.9323</td>\n",
       "      <td>Plinoviti div</td>\n",
       "      <td>Plinoviti div</td>\n",
       "    </tr>\n",
       "    <tr>\n",
       "      <th>4</th>\n",
       "      <td>16 Cyg B b</td>\n",
       "      <td>16 Cyg B</td>\n",
       "      <td>3</td>\n",
       "      <td>1</td>\n",
       "      <td>798.50000</td>\n",
       "      <td>1.66</td>\n",
       "      <td>13.5</td>\n",
       "      <td>565.7374</td>\n",
       "      <td>1.26</td>\n",
       "      <td>0.680</td>\n",
       "      <td>5750.0</td>\n",
       "      <td>1.08</td>\n",
       "      <td>0.06</td>\n",
       "      <td>21.1397</td>\n",
       "      <td>Plinoviti div</td>\n",
       "      <td>Plinoviti div</td>\n",
       "    </tr>\n",
       "  </tbody>\n",
       "</table>\n",
       "</div>"
      ],
      "text/plain": [
       "      pl_name  hostname  sy_snum  sy_pnum   pl_orbper  pl_orbsmax  pl_rade  \\\n",
       "0    11 Com b    11 Com        2        1   326.03000        1.29     12.1   \n",
       "1    11 UMi b    11 UMi        1        1   516.21997        1.53     12.3   \n",
       "2    14 And b    14 And        1        1   185.84000        0.83     12.9   \n",
       "3    14 Her b    14 Her        1        2  1773.40002        2.93     12.9   \n",
       "4  16 Cyg B b  16 Cyg B        3        1   798.50000        1.66     13.5   \n",
       "\n",
       "   pl_bmasse  pl_dens  pl_orbeccen  st_teff  st_mass  st_met   sy_dist  \\\n",
       "0  6165.6000    19.10        0.231   4742.0     2.70   -0.35   93.1846   \n",
       "1  4684.8142    13.80        0.080   4213.0     2.78   -0.02  125.3210   \n",
       "2  1525.5000     3.90        0.000   4813.0     2.20   -0.24   75.4392   \n",
       "3  1481.0878     3.79        0.370   5338.0     0.90    0.41   17.9323   \n",
       "4   565.7374     1.26        0.680   5750.0     1.08    0.06   21.1397   \n",
       "\n",
       "       exo_class  exo_class_ext  \n",
       "0  Plinoviti div  Plinoviti div  \n",
       "1  Plinoviti div  Plinoviti div  \n",
       "2  Plinoviti div  Plinoviti div  \n",
       "3  Plinoviti div  Plinoviti div  \n",
       "4  Plinoviti div  Plinoviti div  "
      ]
     },
     "execution_count": 46,
     "metadata": {},
     "output_type": "execute_result"
    }
   ],
   "source": [
    "exo_data.head()"
   ]
  },
  {
   "cell_type": "markdown",
   "metadata": {},
   "source": [
    "### Stvaranje `ct` tablice"
   ]
  },
  {
   "cell_type": "code",
   "execution_count": 64,
   "metadata": {},
   "outputs": [
    {
     "name": "stdout",
     "output_type": "stream",
     "text": [
      "3709\n"
     ]
    },
    {
     "data": {
      "text/html": [
       "<div>\n",
       "<style scoped>\n",
       "    .dataframe tbody tr th:only-of-type {\n",
       "        vertical-align: middle;\n",
       "    }\n",
       "\n",
       "    .dataframe tbody tr th {\n",
       "        vertical-align: top;\n",
       "    }\n",
       "\n",
       "    .dataframe thead th {\n",
       "        text-align: right;\n",
       "    }\n",
       "</style>\n",
       "<table border=\"1\" class=\"dataframe\">\n",
       "  <thead>\n",
       "    <tr style=\"text-align: right;\">\n",
       "      <th>exo_class_ext</th>\n",
       "      <th>Plinoviti div</th>\n",
       "      <th>Slični Neptunu</th>\n",
       "      <th>Super Zemlja</th>\n",
       "      <th>Terestrički</th>\n",
       "      <th>Vrući Jupiter</th>\n",
       "      <th>Vrući Neptun</th>\n",
       "    </tr>\n",
       "    <tr>\n",
       "      <th>hostname</th>\n",
       "      <th></th>\n",
       "      <th></th>\n",
       "      <th></th>\n",
       "      <th></th>\n",
       "      <th></th>\n",
       "      <th></th>\n",
       "    </tr>\n",
       "  </thead>\n",
       "  <tbody>\n",
       "    <tr>\n",
       "      <th>11 Com</th>\n",
       "      <td>1</td>\n",
       "      <td>0</td>\n",
       "      <td>0</td>\n",
       "      <td>0</td>\n",
       "      <td>0</td>\n",
       "      <td>0</td>\n",
       "    </tr>\n",
       "    <tr>\n",
       "      <th>11 UMi</th>\n",
       "      <td>1</td>\n",
       "      <td>0</td>\n",
       "      <td>0</td>\n",
       "      <td>0</td>\n",
       "      <td>0</td>\n",
       "      <td>0</td>\n",
       "    </tr>\n",
       "    <tr>\n",
       "      <th>14 And</th>\n",
       "      <td>1</td>\n",
       "      <td>0</td>\n",
       "      <td>0</td>\n",
       "      <td>0</td>\n",
       "      <td>0</td>\n",
       "      <td>0</td>\n",
       "    </tr>\n",
       "    <tr>\n",
       "      <th>14 Her</th>\n",
       "      <td>2</td>\n",
       "      <td>0</td>\n",
       "      <td>0</td>\n",
       "      <td>0</td>\n",
       "      <td>0</td>\n",
       "      <td>0</td>\n",
       "    </tr>\n",
       "    <tr>\n",
       "      <th>16 Cyg B</th>\n",
       "      <td>1</td>\n",
       "      <td>0</td>\n",
       "      <td>0</td>\n",
       "      <td>0</td>\n",
       "      <td>0</td>\n",
       "      <td>0</td>\n",
       "    </tr>\n",
       "  </tbody>\n",
       "</table>\n",
       "</div>"
      ],
      "text/plain": [
       "exo_class_ext  Plinoviti div  Slični Neptunu  Super Zemlja  Terestrički  \\\n",
       "hostname                                                                  \n",
       "11 Com                     1               0             0            0   \n",
       "11 UMi                     1               0             0            0   \n",
       "14 And                     1               0             0            0   \n",
       "14 Her                     2               0             0            0   \n",
       "16 Cyg B                   1               0             0            0   \n",
       "\n",
       "exo_class_ext  Vrući Jupiter  Vrući Neptun  \n",
       "hostname                                    \n",
       "11 Com                     0             0  \n",
       "11 UMi                     0             0  \n",
       "14 And                     0             0  \n",
       "14 Her                     0             0  \n",
       "16 Cyg B                   0             0  "
      ]
     },
     "execution_count": 64,
     "metadata": {},
     "output_type": "execute_result"
    }
   ],
   "source": [
    "ht = exo_data[['hostname','exo_class_ext']].copy()\n",
    "pt = pd.crosstab([ht['hostname']],[ht['exo_class_ext']],dropna=False)\n",
    "pt = pd.DataFrame(pt)\n",
    "print(pt.shape[0])\n",
    "pt.head()"
   ]
  },
  {
   "cell_type": "code",
   "execution_count": 65,
   "metadata": {},
   "outputs": [
    {
     "data": {
      "text/plain": [
       "exo_class_ext\n",
       "Plinoviti div     5\n",
       "Slični Neptunu    6\n",
       "Super Zemlja      6\n",
       "Terestrički       6\n",
       "Vrući Jupiter     3\n",
       "Vrući Neptun      3\n",
       "dtype: int64"
      ]
     },
     "execution_count": 65,
     "metadata": {},
     "output_type": "execute_result"
    }
   ],
   "source": [
    "pt.nunique()"
   ]
  },
  {
   "cell_type": "markdown",
   "metadata": {},
   "source": [
    "### Stvaranje `dt` tablice"
   ]
  },
  {
   "cell_type": "code",
   "execution_count": 66,
   "metadata": {},
   "outputs": [
    {
     "name": "stdout",
     "output_type": "stream",
     "text": [
      "3892\n"
     ]
    },
    {
     "data": {
      "text/html": [
       "<div>\n",
       "<style scoped>\n",
       "    .dataframe tbody tr th:only-of-type {\n",
       "        vertical-align: middle;\n",
       "    }\n",
       "\n",
       "    .dataframe tbody tr th {\n",
       "        vertical-align: top;\n",
       "    }\n",
       "\n",
       "    .dataframe thead th {\n",
       "        text-align: right;\n",
       "    }\n",
       "</style>\n",
       "<table border=\"1\" class=\"dataframe\">\n",
       "  <thead>\n",
       "    <tr style=\"text-align: right;\">\n",
       "      <th></th>\n",
       "      <th>hostname</th>\n",
       "      <th>sy_snum</th>\n",
       "      <th>sy_pnum</th>\n",
       "      <th>st_met</th>\n",
       "      <th>st_teff</th>\n",
       "    </tr>\n",
       "  </thead>\n",
       "  <tbody>\n",
       "    <tr>\n",
       "      <th>0</th>\n",
       "      <td>11 Com</td>\n",
       "      <td>2</td>\n",
       "      <td>1</td>\n",
       "      <td>-0.35</td>\n",
       "      <td>4742.0</td>\n",
       "    </tr>\n",
       "    <tr>\n",
       "      <th>1</th>\n",
       "      <td>11 UMi</td>\n",
       "      <td>1</td>\n",
       "      <td>1</td>\n",
       "      <td>-0.02</td>\n",
       "      <td>4213.0</td>\n",
       "    </tr>\n",
       "    <tr>\n",
       "      <th>2</th>\n",
       "      <td>14 And</td>\n",
       "      <td>1</td>\n",
       "      <td>1</td>\n",
       "      <td>-0.24</td>\n",
       "      <td>4813.0</td>\n",
       "    </tr>\n",
       "    <tr>\n",
       "      <th>3</th>\n",
       "      <td>14 Her</td>\n",
       "      <td>1</td>\n",
       "      <td>2</td>\n",
       "      <td>0.41</td>\n",
       "      <td>5338.0</td>\n",
       "    </tr>\n",
       "    <tr>\n",
       "      <th>4</th>\n",
       "      <td>16 Cyg B</td>\n",
       "      <td>3</td>\n",
       "      <td>1</td>\n",
       "      <td>0.06</td>\n",
       "      <td>5750.0</td>\n",
       "    </tr>\n",
       "  </tbody>\n",
       "</table>\n",
       "</div>"
      ],
      "text/plain": [
       "   hostname  sy_snum  sy_pnum  st_met  st_teff\n",
       "0    11 Com        2        1   -0.35   4742.0\n",
       "1    11 UMi        1        1   -0.02   4213.0\n",
       "2    14 And        1        1   -0.24   4813.0\n",
       "3    14 Her        1        2    0.41   5338.0\n",
       "4  16 Cyg B        3        1    0.06   5750.0"
      ]
     },
     "execution_count": 66,
     "metadata": {},
     "output_type": "execute_result"
    }
   ],
   "source": [
    "st = exo_data[['hostname','sy_snum','sy_pnum','st_met','st_teff']].copy()\n",
    "st.drop_duplicates(inplace=True)\n",
    "print(st.shape[0])\n",
    "st.head()"
   ]
  },
  {
   "cell_type": "markdown",
   "metadata": {},
   "source": [
    "Ovdje uočavam da mi `shape` od `ct` i od `dt` nisu isti, odnosno `dt` ima duplo. "
   ]
  },
  {
   "cell_type": "markdown",
   "metadata": {},
   "source": [
    "##### Kreiranje `check` kolone da mi pomogne riješiti problem prevelikog broja retka"
   ]
  },
  {
   "cell_type": "code",
   "execution_count": 67,
   "metadata": {},
   "outputs": [
    {
     "data": {
      "text/html": [
       "<div>\n",
       "<style scoped>\n",
       "    .dataframe tbody tr th:only-of-type {\n",
       "        vertical-align: middle;\n",
       "    }\n",
       "\n",
       "    .dataframe tbody tr th {\n",
       "        vertical-align: top;\n",
       "    }\n",
       "\n",
       "    .dataframe thead th {\n",
       "        text-align: right;\n",
       "    }\n",
       "</style>\n",
       "<table border=\"1\" class=\"dataframe\">\n",
       "  <thead>\n",
       "    <tr style=\"text-align: right;\">\n",
       "      <th></th>\n",
       "      <th>hostname</th>\n",
       "      <th>sy_snum</th>\n",
       "      <th>sy_pnum</th>\n",
       "      <th>st_met</th>\n",
       "      <th>st_teff</th>\n",
       "      <th>check</th>\n",
       "    </tr>\n",
       "  </thead>\n",
       "  <tbody>\n",
       "    <tr>\n",
       "      <th>3</th>\n",
       "      <td>14 Her</td>\n",
       "      <td>1</td>\n",
       "      <td>2</td>\n",
       "      <td>0.41</td>\n",
       "      <td>5338.00</td>\n",
       "      <td>2</td>\n",
       "    </tr>\n",
       "    <tr>\n",
       "      <th>51</th>\n",
       "      <td>BD+20 2457</td>\n",
       "      <td>1</td>\n",
       "      <td>2</td>\n",
       "      <td>-0.79</td>\n",
       "      <td>4259.00</td>\n",
       "      <td>2</td>\n",
       "    </tr>\n",
       "    <tr>\n",
       "      <th>52</th>\n",
       "      <td>BD+20 2457</td>\n",
       "      <td>1</td>\n",
       "      <td>2</td>\n",
       "      <td>-1.00</td>\n",
       "      <td>4137.00</td>\n",
       "      <td>2</td>\n",
       "    </tr>\n",
       "    <tr>\n",
       "      <th>65</th>\n",
       "      <td>BD-08 2823</td>\n",
       "      <td>1</td>\n",
       "      <td>2</td>\n",
       "      <td>-0.06</td>\n",
       "      <td>4816.00</td>\n",
       "      <td>2</td>\n",
       "    </tr>\n",
       "    <tr>\n",
       "      <th>66</th>\n",
       "      <td>BD-08 2823</td>\n",
       "      <td>1</td>\n",
       "      <td>2</td>\n",
       "      <td>-0.07</td>\n",
       "      <td>4746.00</td>\n",
       "      <td>2</td>\n",
       "    </tr>\n",
       "    <tr>\n",
       "      <th>...</th>\n",
       "      <td>...</td>\n",
       "      <td>...</td>\n",
       "      <td>...</td>\n",
       "      <td>...</td>\n",
       "      <td>...</td>\n",
       "      <td>...</td>\n",
       "    </tr>\n",
       "    <tr>\n",
       "      <th>4775</th>\n",
       "      <td>WASP-18</td>\n",
       "      <td>2</td>\n",
       "      <td>2</td>\n",
       "      <td>0.19</td>\n",
       "      <td>6400.00</td>\n",
       "      <td>2</td>\n",
       "    </tr>\n",
       "    <tr>\n",
       "      <th>4854</th>\n",
       "      <td>WASP-8</td>\n",
       "      <td>2</td>\n",
       "      <td>2</td>\n",
       "      <td>0.17</td>\n",
       "      <td>5600.00</td>\n",
       "      <td>2</td>\n",
       "    </tr>\n",
       "    <tr>\n",
       "      <th>4855</th>\n",
       "      <td>WASP-8</td>\n",
       "      <td>2</td>\n",
       "      <td>2</td>\n",
       "      <td>0.17</td>\n",
       "      <td>5690.00</td>\n",
       "      <td>2</td>\n",
       "    </tr>\n",
       "    <tr>\n",
       "      <th>4904</th>\n",
       "      <td>bet Pic</td>\n",
       "      <td>1</td>\n",
       "      <td>2</td>\n",
       "      <td>-0.21</td>\n",
       "      <td>8038.68</td>\n",
       "      <td>2</td>\n",
       "    </tr>\n",
       "    <tr>\n",
       "      <th>4905</th>\n",
       "      <td>bet Pic</td>\n",
       "      <td>1</td>\n",
       "      <td>2</td>\n",
       "      <td>-0.21</td>\n",
       "      <td>7890.00</td>\n",
       "      <td>2</td>\n",
       "    </tr>\n",
       "  </tbody>\n",
       "</table>\n",
       "<p>355 rows × 6 columns</p>\n",
       "</div>"
      ],
      "text/plain": [
       "        hostname  sy_snum  sy_pnum  st_met  st_teff  check\n",
       "3         14 Her        1        2    0.41  5338.00      2\n",
       "51    BD+20 2457        1        2   -0.79  4259.00      2\n",
       "52    BD+20 2457        1        2   -1.00  4137.00      2\n",
       "65    BD-08 2823        1        2   -0.06  4816.00      2\n",
       "66    BD-08 2823        1        2   -0.07  4746.00      2\n",
       "...          ...      ...      ...     ...      ...    ...\n",
       "4775     WASP-18        2        2    0.19  6400.00      2\n",
       "4854      WASP-8        2        2    0.17  5600.00      2\n",
       "4855      WASP-8        2        2    0.17  5690.00      2\n",
       "4904     bet Pic        1        2   -0.21  8038.68      2\n",
       "4905     bet Pic        1        2   -0.21  7890.00      2\n",
       "\n",
       "[355 rows x 6 columns]"
      ]
     },
     "execution_count": 67,
     "metadata": {},
     "output_type": "execute_result"
    }
   ],
   "source": [
    "st['check'] = st.groupby('hostname')['hostname'].transform('count')\n",
    "st[st['check']>=2]"
   ]
  },
  {
   "cell_type": "markdown",
   "metadata": {},
   "source": [
    "Uočavam da su mi problem metalicitet i temperatura, te sad moram uzeti `mean` od obje vrijednosti, dropat duplo i vratiti red u `dt`"
   ]
  },
  {
   "cell_type": "code",
   "execution_count": 51,
   "metadata": {},
   "outputs": [
    {
     "name": "stdout",
     "output_type": "stream",
     "text": [
      "3711 3709\n"
     ]
    },
    {
     "data": {
      "text/html": [
       "<div>\n",
       "<style scoped>\n",
       "    .dataframe tbody tr th:only-of-type {\n",
       "        vertical-align: middle;\n",
       "    }\n",
       "\n",
       "    .dataframe tbody tr th {\n",
       "        vertical-align: top;\n",
       "    }\n",
       "\n",
       "    .dataframe thead th {\n",
       "        text-align: right;\n",
       "    }\n",
       "</style>\n",
       "<table border=\"1\" class=\"dataframe\">\n",
       "  <thead>\n",
       "    <tr style=\"text-align: right;\">\n",
       "      <th></th>\n",
       "      <th>hostname</th>\n",
       "      <th>sy_snum</th>\n",
       "      <th>sy_pnum</th>\n",
       "      <th>check</th>\n",
       "      <th>st_metallicity</th>\n",
       "      <th>st_temperature</th>\n",
       "    </tr>\n",
       "  </thead>\n",
       "  <tbody>\n",
       "    <tr>\n",
       "      <th>0</th>\n",
       "      <td>11 Com</td>\n",
       "      <td>2</td>\n",
       "      <td>1</td>\n",
       "      <td>1</td>\n",
       "      <td>-0.3500</td>\n",
       "      <td>4742.00</td>\n",
       "    </tr>\n",
       "    <tr>\n",
       "      <th>1</th>\n",
       "      <td>11 UMi</td>\n",
       "      <td>1</td>\n",
       "      <td>1</td>\n",
       "      <td>1</td>\n",
       "      <td>-0.0200</td>\n",
       "      <td>4213.00</td>\n",
       "    </tr>\n",
       "    <tr>\n",
       "      <th>2</th>\n",
       "      <td>14 And</td>\n",
       "      <td>1</td>\n",
       "      <td>1</td>\n",
       "      <td>1</td>\n",
       "      <td>-0.2400</td>\n",
       "      <td>4813.00</td>\n",
       "    </tr>\n",
       "    <tr>\n",
       "      <th>3</th>\n",
       "      <td>14 Her</td>\n",
       "      <td>1</td>\n",
       "      <td>2</td>\n",
       "      <td>2</td>\n",
       "      <td>0.4075</td>\n",
       "      <td>5326.47</td>\n",
       "    </tr>\n",
       "    <tr>\n",
       "      <th>4</th>\n",
       "      <td>16 Cyg B</td>\n",
       "      <td>3</td>\n",
       "      <td>1</td>\n",
       "      <td>1</td>\n",
       "      <td>0.0600</td>\n",
       "      <td>5750.00</td>\n",
       "    </tr>\n",
       "  </tbody>\n",
       "</table>\n",
       "</div>"
      ],
      "text/plain": [
       "   hostname  sy_snum  sy_pnum  check  st_metallicity  st_temperature\n",
       "0    11 Com        2        1      1         -0.3500         4742.00\n",
       "1    11 UMi        1        1      1         -0.0200         4213.00\n",
       "2    14 And        1        1      1         -0.2400         4813.00\n",
       "3    14 Her        1        2      2          0.4075         5326.47\n",
       "4  16 Cyg B        3        1      1          0.0600         5750.00"
      ]
     },
     "execution_count": 51,
     "metadata": {},
     "output_type": "execute_result"
    }
   ],
   "source": [
    "st['st_metallicity'] = st.groupby('hostname')['st_met'].transform('mean')\n",
    "st = st.drop(['st_met'],axis=1)\n",
    "st.drop_duplicates(inplace=True)\n",
    "\n",
    "st['st_temperature'] = st.groupby('hostname')['st_teff'].transform('mean')\n",
    "st = st.drop(['st_teff'],axis=1)\n",
    "st.drop_duplicates(inplace=True)\n",
    "\n",
    "print(st.shape[0], pt.shape[0])\n",
    "st.head()"
   ]
  },
  {
   "cell_type": "code",
   "execution_count": 52,
   "metadata": {},
   "outputs": [
    {
     "data": {
      "text/html": [
       "<div>\n",
       "<style scoped>\n",
       "    .dataframe tbody tr th:only-of-type {\n",
       "        vertical-align: middle;\n",
       "    }\n",
       "\n",
       "    .dataframe tbody tr th {\n",
       "        vertical-align: top;\n",
       "    }\n",
       "\n",
       "    .dataframe thead th {\n",
       "        text-align: right;\n",
       "    }\n",
       "</style>\n",
       "<table border=\"1\" class=\"dataframe\">\n",
       "  <thead>\n",
       "    <tr style=\"text-align: right;\">\n",
       "      <th></th>\n",
       "      <th>hostname</th>\n",
       "      <th>sy_snum</th>\n",
       "      <th>sy_pnum</th>\n",
       "      <th>check</th>\n",
       "      <th>st_metallicity</th>\n",
       "      <th>st_temperature</th>\n",
       "    </tr>\n",
       "  </thead>\n",
       "  <tbody>\n",
       "  </tbody>\n",
       "</table>\n",
       "</div>"
      ],
      "text/plain": [
       "Empty DataFrame\n",
       "Columns: [hostname, sy_snum, sy_pnum, check, st_metallicity, st_temperature]\n",
       "Index: []"
      ]
     },
     "execution_count": 52,
     "metadata": {},
     "output_type": "execute_result"
    }
   ],
   "source": [
    "st['check'] = st.groupby('hostname')['hostname'].transform('count')\n",
    "st[st['check']>=2]"
   ]
  },
  {
   "cell_type": "code",
   "execution_count": 53,
   "metadata": {},
   "outputs": [
    {
     "data": {
      "text/html": [
       "<div>\n",
       "<style scoped>\n",
       "    .dataframe tbody tr th:only-of-type {\n",
       "        vertical-align: middle;\n",
       "    }\n",
       "\n",
       "    .dataframe tbody tr th {\n",
       "        vertical-align: top;\n",
       "    }\n",
       "\n",
       "    .dataframe thead th {\n",
       "        text-align: right;\n",
       "    }\n",
       "</style>\n",
       "<table border=\"1\" class=\"dataframe\">\n",
       "  <thead>\n",
       "    <tr style=\"text-align: right;\">\n",
       "      <th></th>\n",
       "      <th>hostname</th>\n",
       "      <th>sy_snum</th>\n",
       "      <th>sy_pnum</th>\n",
       "      <th>st_metallicity</th>\n",
       "      <th>st_temperature</th>\n",
       "    </tr>\n",
       "  </thead>\n",
       "  <tbody>\n",
       "    <tr>\n",
       "      <th>0</th>\n",
       "      <td>11 Com</td>\n",
       "      <td>2</td>\n",
       "      <td>1</td>\n",
       "      <td>-0.3500</td>\n",
       "      <td>4742.00</td>\n",
       "    </tr>\n",
       "    <tr>\n",
       "      <th>1</th>\n",
       "      <td>11 UMi</td>\n",
       "      <td>1</td>\n",
       "      <td>1</td>\n",
       "      <td>-0.0200</td>\n",
       "      <td>4213.00</td>\n",
       "    </tr>\n",
       "    <tr>\n",
       "      <th>2</th>\n",
       "      <td>14 And</td>\n",
       "      <td>1</td>\n",
       "      <td>1</td>\n",
       "      <td>-0.2400</td>\n",
       "      <td>4813.00</td>\n",
       "    </tr>\n",
       "    <tr>\n",
       "      <th>3</th>\n",
       "      <td>14 Her</td>\n",
       "      <td>1</td>\n",
       "      <td>2</td>\n",
       "      <td>0.4075</td>\n",
       "      <td>5326.47</td>\n",
       "    </tr>\n",
       "    <tr>\n",
       "      <th>4</th>\n",
       "      <td>16 Cyg B</td>\n",
       "      <td>3</td>\n",
       "      <td>1</td>\n",
       "      <td>0.0600</td>\n",
       "      <td>5750.00</td>\n",
       "    </tr>\n",
       "  </tbody>\n",
       "</table>\n",
       "</div>"
      ],
      "text/plain": [
       "   hostname  sy_snum  sy_pnum  st_metallicity  st_temperature\n",
       "0    11 Com        2        1         -0.3500         4742.00\n",
       "1    11 UMi        1        1         -0.0200         4213.00\n",
       "2    14 And        1        1         -0.2400         4813.00\n",
       "3    14 Her        1        2          0.4075         5326.47\n",
       "4  16 Cyg B        3        1          0.0600         5750.00"
      ]
     },
     "execution_count": 53,
     "metadata": {},
     "output_type": "execute_result"
    }
   ],
   "source": [
    "st = st.drop(['check'],axis=1)\n",
    "\n",
    "st.head()"
   ]
  },
  {
   "cell_type": "code",
   "execution_count": 54,
   "metadata": {},
   "outputs": [
    {
     "data": {
      "text/html": [
       "<div>\n",
       "<style scoped>\n",
       "    .dataframe tbody tr th:only-of-type {\n",
       "        vertical-align: middle;\n",
       "    }\n",
       "\n",
       "    .dataframe tbody tr th {\n",
       "        vertical-align: top;\n",
       "    }\n",
       "\n",
       "    .dataframe thead th {\n",
       "        text-align: right;\n",
       "    }\n",
       "</style>\n",
       "<table border=\"1\" class=\"dataframe\">\n",
       "  <thead>\n",
       "    <tr style=\"text-align: right;\">\n",
       "      <th></th>\n",
       "      <th>hostname</th>\n",
       "      <th>sy_snum</th>\n",
       "      <th>sy_pnum</th>\n",
       "      <th>st_metallicity</th>\n",
       "      <th>st_temperature</th>\n",
       "      <th>Plinoviti div</th>\n",
       "      <th>Slični Neptunu</th>\n",
       "      <th>Super Zemlja</th>\n",
       "      <th>Terestrički</th>\n",
       "      <th>Vrući Jupiter</th>\n",
       "      <th>Vrući Neptun</th>\n",
       "    </tr>\n",
       "  </thead>\n",
       "  <tbody>\n",
       "    <tr>\n",
       "      <th>0</th>\n",
       "      <td>11 Com</td>\n",
       "      <td>2</td>\n",
       "      <td>1</td>\n",
       "      <td>-0.3500</td>\n",
       "      <td>4742.00</td>\n",
       "      <td>1.0</td>\n",
       "      <td>0.0</td>\n",
       "      <td>0.0</td>\n",
       "      <td>0.0</td>\n",
       "      <td>0.0</td>\n",
       "      <td>0.0</td>\n",
       "    </tr>\n",
       "    <tr>\n",
       "      <th>1</th>\n",
       "      <td>11 UMi</td>\n",
       "      <td>1</td>\n",
       "      <td>1</td>\n",
       "      <td>-0.0200</td>\n",
       "      <td>4213.00</td>\n",
       "      <td>1.0</td>\n",
       "      <td>0.0</td>\n",
       "      <td>0.0</td>\n",
       "      <td>0.0</td>\n",
       "      <td>0.0</td>\n",
       "      <td>0.0</td>\n",
       "    </tr>\n",
       "    <tr>\n",
       "      <th>2</th>\n",
       "      <td>14 And</td>\n",
       "      <td>1</td>\n",
       "      <td>1</td>\n",
       "      <td>-0.2400</td>\n",
       "      <td>4813.00</td>\n",
       "      <td>1.0</td>\n",
       "      <td>0.0</td>\n",
       "      <td>0.0</td>\n",
       "      <td>0.0</td>\n",
       "      <td>0.0</td>\n",
       "      <td>0.0</td>\n",
       "    </tr>\n",
       "    <tr>\n",
       "      <th>3</th>\n",
       "      <td>14 Her</td>\n",
       "      <td>1</td>\n",
       "      <td>2</td>\n",
       "      <td>0.4075</td>\n",
       "      <td>5326.47</td>\n",
       "      <td>2.0</td>\n",
       "      <td>0.0</td>\n",
       "      <td>0.0</td>\n",
       "      <td>0.0</td>\n",
       "      <td>0.0</td>\n",
       "      <td>0.0</td>\n",
       "    </tr>\n",
       "    <tr>\n",
       "      <th>4</th>\n",
       "      <td>16 Cyg B</td>\n",
       "      <td>3</td>\n",
       "      <td>1</td>\n",
       "      <td>0.0600</td>\n",
       "      <td>5750.00</td>\n",
       "      <td>1.0</td>\n",
       "      <td>0.0</td>\n",
       "      <td>0.0</td>\n",
       "      <td>0.0</td>\n",
       "      <td>0.0</td>\n",
       "      <td>0.0</td>\n",
       "    </tr>\n",
       "  </tbody>\n",
       "</table>\n",
       "</div>"
      ],
      "text/plain": [
       "   hostname  sy_snum  sy_pnum  st_metallicity  st_temperature  Plinoviti div  \\\n",
       "0    11 Com        2        1         -0.3500         4742.00            1.0   \n",
       "1    11 UMi        1        1         -0.0200         4213.00            1.0   \n",
       "2    14 And        1        1         -0.2400         4813.00            1.0   \n",
       "3    14 Her        1        2          0.4075         5326.47            2.0   \n",
       "4  16 Cyg B        3        1          0.0600         5750.00            1.0   \n",
       "\n",
       "   Slični Neptunu  Super Zemlja  Terestrički  Vrući Jupiter  Vrući Neptun  \n",
       "0             0.0           0.0          0.0            0.0           0.0  \n",
       "1             0.0           0.0          0.0            0.0           0.0  \n",
       "2             0.0           0.0          0.0            0.0           0.0  \n",
       "3             0.0           0.0          0.0            0.0           0.0  \n",
       "4             0.0           0.0          0.0            0.0           0.0  "
      ]
     },
     "execution_count": 54,
     "metadata": {},
     "output_type": "execute_result"
    }
   ],
   "source": [
    "pt = pt.reset_index()\n",
    "\n",
    "planetary_systems = pd.merge(st, pt, on='hostname',how='left')\n",
    "planetary_systems.head()"
   ]
  },
  {
   "cell_type": "markdown",
   "metadata": {},
   "source": [
    "Imam 2 egzoplaneta koji nemaju `exo_class_ext` ali to je OK jer su mi potrebni za druge stvari, ali neće prisustvovati u drugim kalkulacijama"
   ]
  },
  {
   "cell_type": "code",
   "execution_count": 55,
   "metadata": {},
   "outputs": [
    {
     "data": {
      "text/plain": [
       "hostname            0\n",
       "sy_snum             0\n",
       "sy_pnum             0\n",
       "st_metallicity    279\n",
       "st_temperature    133\n",
       "Plinoviti div       2\n",
       "Slični Neptunu      2\n",
       "Super Zemlja        2\n",
       "Terestrički         2\n",
       "Vrući Jupiter       2\n",
       "Vrući Neptun        2\n",
       "dtype: int64"
      ]
     },
     "execution_count": 55,
     "metadata": {},
     "output_type": "execute_result"
    }
   ],
   "source": [
    "planetary_systems.isnull().sum()"
   ]
  },
  {
   "cell_type": "markdown",
   "metadata": {},
   "source": [
    "## Kategorizacija zvijezda"
   ]
  },
  {
   "cell_type": "markdown",
   "metadata": {},
   "source": [
    "##### Stvaranje riječnika za mapiranje spektralnih tipova"
   ]
  },
  {
   "cell_type": "code",
   "execution_count": 56,
   "metadata": {},
   "outputs": [],
   "source": [
    "stellar = {pd.Interval(2400,3700,closed='left'):\"M\",\n",
    "pd.Interval(3700,5200,closed='left'):'K',\n",
    "pd.Interval(5200,6000,closed='left'):'G',\n",
    "pd.Interval(6000,7500,closed='left'):'F',\n",
    "pd.Interval(7500,10000,closed='left'):'A',\n",
    "pd.Interval(10000,30000,closed='left'):'B',\n",
    "pd.Interval(30000,100000,closed='left'):'O',\n",
    "}"
   ]
  },
  {
   "cell_type": "markdown",
   "metadata": {},
   "source": [
    "##### Mapiranje zvijezda "
   ]
  },
  {
   "cell_type": "code",
   "execution_count": 57,
   "metadata": {},
   "outputs": [
    {
     "data": {
      "text/html": [
       "<div>\n",
       "<style scoped>\n",
       "    .dataframe tbody tr th:only-of-type {\n",
       "        vertical-align: middle;\n",
       "    }\n",
       "\n",
       "    .dataframe tbody tr th {\n",
       "        vertical-align: top;\n",
       "    }\n",
       "\n",
       "    .dataframe thead th {\n",
       "        text-align: right;\n",
       "    }\n",
       "</style>\n",
       "<table border=\"1\" class=\"dataframe\">\n",
       "  <thead>\n",
       "    <tr style=\"text-align: right;\">\n",
       "      <th></th>\n",
       "      <th>hostname</th>\n",
       "      <th>sy_snum</th>\n",
       "      <th>sy_pnum</th>\n",
       "      <th>st_metallicity</th>\n",
       "      <th>st_temperature</th>\n",
       "      <th>Plinoviti div</th>\n",
       "      <th>Slični Neptunu</th>\n",
       "      <th>Super Zemlja</th>\n",
       "      <th>Terestrički</th>\n",
       "      <th>Vrući Jupiter</th>\n",
       "      <th>Vrući Neptun</th>\n",
       "      <th>st_spect</th>\n",
       "    </tr>\n",
       "  </thead>\n",
       "  <tbody>\n",
       "    <tr>\n",
       "      <th>0</th>\n",
       "      <td>11 Com</td>\n",
       "      <td>2</td>\n",
       "      <td>1</td>\n",
       "      <td>-0.3500</td>\n",
       "      <td>4742.00</td>\n",
       "      <td>1.0</td>\n",
       "      <td>0.0</td>\n",
       "      <td>0.0</td>\n",
       "      <td>0.0</td>\n",
       "      <td>0.0</td>\n",
       "      <td>0.0</td>\n",
       "      <td>K</td>\n",
       "    </tr>\n",
       "    <tr>\n",
       "      <th>1</th>\n",
       "      <td>11 UMi</td>\n",
       "      <td>1</td>\n",
       "      <td>1</td>\n",
       "      <td>-0.0200</td>\n",
       "      <td>4213.00</td>\n",
       "      <td>1.0</td>\n",
       "      <td>0.0</td>\n",
       "      <td>0.0</td>\n",
       "      <td>0.0</td>\n",
       "      <td>0.0</td>\n",
       "      <td>0.0</td>\n",
       "      <td>K</td>\n",
       "    </tr>\n",
       "    <tr>\n",
       "      <th>2</th>\n",
       "      <td>14 And</td>\n",
       "      <td>1</td>\n",
       "      <td>1</td>\n",
       "      <td>-0.2400</td>\n",
       "      <td>4813.00</td>\n",
       "      <td>1.0</td>\n",
       "      <td>0.0</td>\n",
       "      <td>0.0</td>\n",
       "      <td>0.0</td>\n",
       "      <td>0.0</td>\n",
       "      <td>0.0</td>\n",
       "      <td>K</td>\n",
       "    </tr>\n",
       "    <tr>\n",
       "      <th>3</th>\n",
       "      <td>14 Her</td>\n",
       "      <td>1</td>\n",
       "      <td>2</td>\n",
       "      <td>0.4075</td>\n",
       "      <td>5326.47</td>\n",
       "      <td>2.0</td>\n",
       "      <td>0.0</td>\n",
       "      <td>0.0</td>\n",
       "      <td>0.0</td>\n",
       "      <td>0.0</td>\n",
       "      <td>0.0</td>\n",
       "      <td>G</td>\n",
       "    </tr>\n",
       "    <tr>\n",
       "      <th>4</th>\n",
       "      <td>16 Cyg B</td>\n",
       "      <td>3</td>\n",
       "      <td>1</td>\n",
       "      <td>0.0600</td>\n",
       "      <td>5750.00</td>\n",
       "      <td>1.0</td>\n",
       "      <td>0.0</td>\n",
       "      <td>0.0</td>\n",
       "      <td>0.0</td>\n",
       "      <td>0.0</td>\n",
       "      <td>0.0</td>\n",
       "      <td>G</td>\n",
       "    </tr>\n",
       "  </tbody>\n",
       "</table>\n",
       "</div>"
      ],
      "text/plain": [
       "   hostname  sy_snum  sy_pnum  st_metallicity  st_temperature  Plinoviti div  \\\n",
       "0    11 Com        2        1         -0.3500         4742.00            1.0   \n",
       "1    11 UMi        1        1         -0.0200         4213.00            1.0   \n",
       "2    14 And        1        1         -0.2400         4813.00            1.0   \n",
       "3    14 Her        1        2          0.4075         5326.47            2.0   \n",
       "4  16 Cyg B        3        1          0.0600         5750.00            1.0   \n",
       "\n",
       "   Slični Neptunu  Super Zemlja  Terestrički  Vrući Jupiter  Vrući Neptun  \\\n",
       "0             0.0           0.0          0.0            0.0           0.0   \n",
       "1             0.0           0.0          0.0            0.0           0.0   \n",
       "2             0.0           0.0          0.0            0.0           0.0   \n",
       "3             0.0           0.0          0.0            0.0           0.0   \n",
       "4             0.0           0.0          0.0            0.0           0.0   \n",
       "\n",
       "  st_spect  \n",
       "0        K  \n",
       "1        K  \n",
       "2        K  \n",
       "3        G  \n",
       "4        G  "
      ]
     },
     "execution_count": 57,
     "metadata": {},
     "output_type": "execute_result"
    }
   ],
   "source": [
    "planetary_systems['st_spect'] = planetary_systems['st_temperature'].map(stellar)\n",
    "planetary_systems.head()"
   ]
  },
  {
   "cell_type": "code",
   "execution_count": 58,
   "metadata": {},
   "outputs": [
    {
     "data": {
      "text/plain": [
       "G    1693\n",
       "K     977\n",
       "F     708\n",
       "M     163\n",
       "A      19\n",
       "B      10\n",
       "O       3\n",
       "Name: st_spect, dtype: int64"
      ]
     },
     "execution_count": 58,
     "metadata": {},
     "output_type": "execute_result"
    }
   ],
   "source": [
    "planetary_systems.st_spect.value_counts()"
   ]
  },
  {
   "cell_type": "markdown",
   "metadata": {},
   "source": [
    "## Tablice za zvijezde"
   ]
  },
  {
   "cell_type": "code",
   "execution_count": 59,
   "metadata": {},
   "outputs": [
    {
     "data": {
      "text/html": [
       "<div>\n",
       "<style scoped>\n",
       "    .dataframe tbody tr th:only-of-type {\n",
       "        vertical-align: middle;\n",
       "    }\n",
       "\n",
       "    .dataframe tbody tr th {\n",
       "        vertical-align: top;\n",
       "    }\n",
       "\n",
       "    .dataframe thead th {\n",
       "        text-align: right;\n",
       "    }\n",
       "</style>\n",
       "<table border=\"1\" class=\"dataframe\">\n",
       "  <thead>\n",
       "    <tr style=\"text-align: right;\">\n",
       "      <th>sy_pnum</th>\n",
       "      <th>1</th>\n",
       "      <th>2</th>\n",
       "      <th>3</th>\n",
       "      <th>4</th>\n",
       "      <th>5</th>\n",
       "      <th>6</th>\n",
       "      <th>7</th>\n",
       "      <th>8</th>\n",
       "    </tr>\n",
       "    <tr>\n",
       "      <th>st_spect</th>\n",
       "      <th></th>\n",
       "      <th></th>\n",
       "      <th></th>\n",
       "      <th></th>\n",
       "      <th></th>\n",
       "      <th></th>\n",
       "      <th></th>\n",
       "      <th></th>\n",
       "    </tr>\n",
       "  </thead>\n",
       "  <tbody>\n",
       "    <tr>\n",
       "      <th>A</th>\n",
       "      <td>17</td>\n",
       "      <td>2</td>\n",
       "      <td>0</td>\n",
       "      <td>0</td>\n",
       "      <td>0</td>\n",
       "      <td>0</td>\n",
       "      <td>0</td>\n",
       "      <td>0</td>\n",
       "    </tr>\n",
       "    <tr>\n",
       "      <th>B</th>\n",
       "      <td>8</td>\n",
       "      <td>1</td>\n",
       "      <td>1</td>\n",
       "      <td>0</td>\n",
       "      <td>0</td>\n",
       "      <td>0</td>\n",
       "      <td>0</td>\n",
       "      <td>0</td>\n",
       "    </tr>\n",
       "    <tr>\n",
       "      <th>F</th>\n",
       "      <td>579</td>\n",
       "      <td>89</td>\n",
       "      <td>24</td>\n",
       "      <td>12</td>\n",
       "      <td>3</td>\n",
       "      <td>0</td>\n",
       "      <td>0</td>\n",
       "      <td>1</td>\n",
       "    </tr>\n",
       "    <tr>\n",
       "      <th>G</th>\n",
       "      <td>1293</td>\n",
       "      <td>258</td>\n",
       "      <td>99</td>\n",
       "      <td>27</td>\n",
       "      <td>11</td>\n",
       "      <td>5</td>\n",
       "      <td>0</td>\n",
       "      <td>0</td>\n",
       "    </tr>\n",
       "    <tr>\n",
       "      <th>K</th>\n",
       "      <td>752</td>\n",
       "      <td>151</td>\n",
       "      <td>42</td>\n",
       "      <td>18</td>\n",
       "      <td>11</td>\n",
       "      <td>3</td>\n",
       "      <td>0</td>\n",
       "      <td>0</td>\n",
       "    </tr>\n",
       "    <tr>\n",
       "      <th>M</th>\n",
       "      <td>111</td>\n",
       "      <td>30</td>\n",
       "      <td>15</td>\n",
       "      <td>5</td>\n",
       "      <td>1</td>\n",
       "      <td>0</td>\n",
       "      <td>1</td>\n",
       "      <td>0</td>\n",
       "    </tr>\n",
       "    <tr>\n",
       "      <th>O</th>\n",
       "      <td>1</td>\n",
       "      <td>2</td>\n",
       "      <td>0</td>\n",
       "      <td>0</td>\n",
       "      <td>0</td>\n",
       "      <td>0</td>\n",
       "      <td>0</td>\n",
       "      <td>0</td>\n",
       "    </tr>\n",
       "  </tbody>\n",
       "</table>\n",
       "</div>"
      ],
      "text/plain": [
       "sy_pnum      1    2   3   4   5  6  7  8\n",
       "st_spect                                \n",
       "A           17    2   0   0   0  0  0  0\n",
       "B            8    1   1   0   0  0  0  0\n",
       "F          579   89  24  12   3  0  0  1\n",
       "G         1293  258  99  27  11  5  0  0\n",
       "K          752  151  42  18  11  3  0  0\n",
       "M          111   30  15   5   1  0  1  0\n",
       "O            1    2   0   0   0  0  0  0"
      ]
     },
     "execution_count": 59,
     "metadata": {},
     "output_type": "execute_result"
    }
   ],
   "source": [
    "spectra1 = pd.crosstab(planetary_systems['st_spect'],planetary_systems['sy_pnum'])\n",
    "pd.DataFrame(spectra1)\n",
    "spectra1.head(10)"
   ]
  },
  {
   "cell_type": "code",
   "execution_count": 62,
   "metadata": {},
   "outputs": [],
   "source": [
    "cols = ['Plinoviti div',\t'Slični Neptunu',\t'Super Zemlja',\t'Terestrički',\t'Vrući Jupiter',\t'Vrući Neptun']\n",
    "ht = pd.DataFrame(index=planetary_systems.st_spect.unique())\n",
    "for pl_type in cols: # \n",
    "    st_sum_pl = planetary_systems.groupby('st_spect')[pl_type].agg('sum').to_dict()\n",
    "    ht[pl_type] = ht.index.map(st_sum_pl)\n",
    "ht.dropna(inplace=True)\n",
    "ht.sort_index(inplace=True)"
   ]
  },
  {
   "cell_type": "code",
   "execution_count": 63,
   "metadata": {},
   "outputs": [
    {
     "data": {
      "text/html": [
       "<div>\n",
       "<style scoped>\n",
       "    .dataframe tbody tr th:only-of-type {\n",
       "        vertical-align: middle;\n",
       "    }\n",
       "\n",
       "    .dataframe tbody tr th {\n",
       "        vertical-align: top;\n",
       "    }\n",
       "\n",
       "    .dataframe thead th {\n",
       "        text-align: right;\n",
       "    }\n",
       "</style>\n",
       "<table border=\"1\" class=\"dataframe\">\n",
       "  <thead>\n",
       "    <tr style=\"text-align: right;\">\n",
       "      <th></th>\n",
       "      <th>Plinoviti div</th>\n",
       "      <th>Slični Neptunu</th>\n",
       "      <th>Super Zemlja</th>\n",
       "      <th>Terestrički</th>\n",
       "      <th>Vrući Jupiter</th>\n",
       "      <th>Vrući Neptun</th>\n",
       "    </tr>\n",
       "  </thead>\n",
       "  <tbody>\n",
       "    <tr>\n",
       "      <th>A</th>\n",
       "      <td>8.0</td>\n",
       "      <td>2.0</td>\n",
       "      <td>1.0</td>\n",
       "      <td>0.0</td>\n",
       "      <td>10.0</td>\n",
       "      <td>0.0</td>\n",
       "    </tr>\n",
       "    <tr>\n",
       "      <th>B</th>\n",
       "      <td>7.0</td>\n",
       "      <td>0.0</td>\n",
       "      <td>0.0</td>\n",
       "      <td>2.0</td>\n",
       "      <td>1.0</td>\n",
       "      <td>0.0</td>\n",
       "    </tr>\n",
       "    <tr>\n",
       "      <th>F</th>\n",
       "      <td>111.0</td>\n",
       "      <td>255.0</td>\n",
       "      <td>293.0</td>\n",
       "      <td>28.0</td>\n",
       "      <td>202.0</td>\n",
       "      <td>9.0</td>\n",
       "    </tr>\n",
       "    <tr>\n",
       "      <th>G</th>\n",
       "      <td>312.0</td>\n",
       "      <td>814.0</td>\n",
       "      <td>760.0</td>\n",
       "      <td>79.0</td>\n",
       "      <td>253.0</td>\n",
       "      <td>69.0</td>\n",
       "    </tr>\n",
       "    <tr>\n",
       "      <th>K</th>\n",
       "      <td>294.0</td>\n",
       "      <td>334.0</td>\n",
       "      <td>507.0</td>\n",
       "      <td>51.0</td>\n",
       "      <td>96.0</td>\n",
       "      <td>40.0</td>\n",
       "    </tr>\n",
       "    <tr>\n",
       "      <th>M</th>\n",
       "      <td>28.0</td>\n",
       "      <td>50.0</td>\n",
       "      <td>132.0</td>\n",
       "      <td>17.0</td>\n",
       "      <td>6.0</td>\n",
       "      <td>15.0</td>\n",
       "    </tr>\n",
       "    <tr>\n",
       "      <th>O</th>\n",
       "      <td>5.0</td>\n",
       "      <td>0.0</td>\n",
       "      <td>0.0</td>\n",
       "      <td>0.0</td>\n",
       "      <td>0.0</td>\n",
       "      <td>0.0</td>\n",
       "    </tr>\n",
       "  </tbody>\n",
       "</table>\n",
       "</div>"
      ],
      "text/plain": [
       "   Plinoviti div  Slični Neptunu  Super Zemlja  Terestrički  Vrući Jupiter  \\\n",
       "A            8.0             2.0           1.0          0.0           10.0   \n",
       "B            7.0             0.0           0.0          2.0            1.0   \n",
       "F          111.0           255.0         293.0         28.0          202.0   \n",
       "G          312.0           814.0         760.0         79.0          253.0   \n",
       "K          294.0           334.0         507.0         51.0           96.0   \n",
       "M           28.0            50.0         132.0         17.0            6.0   \n",
       "O            5.0             0.0           0.0          0.0            0.0   \n",
       "\n",
       "   Vrući Neptun  \n",
       "A           0.0  \n",
       "B           0.0  \n",
       "F           9.0  \n",
       "G          69.0  \n",
       "K          40.0  \n",
       "M          15.0  \n",
       "O           0.0  "
      ]
     },
     "execution_count": 63,
     "metadata": {},
     "output_type": "execute_result"
    }
   ],
   "source": [
    "ht"
   ]
  },
  {
   "cell_type": "markdown",
   "metadata": {},
   "source": [
    "## GRAFOVI"
   ]
  },
  {
   "cell_type": "code",
   "execution_count": 40,
   "metadata": {},
   "outputs": [
    {
     "data": {
      "image/png": "[encoded data removed]",
      "text/plain": [
       "<Figure size 576x360 with 1 Axes>"
      ]
     },
     "metadata": {
      "needs_background": "light"
     },
     "output_type": "display_data"
    }
   ],
   "source": [
    "plt.figure(figsize=(8,5))\n",
    "scp = sns.countplot(x=exo_data['exo_class_ext'],palette='Blues_r',data = exo_data,order=exo_data['exo_class_ext'].value_counts().index)\n",
    "annotate_countplot(scp,exo_data,0.01)\n",
    "sns.despine()\n",
    "plt.xlabel('Kategorija egzoplaneta')\n",
    "plt.ylabel('Brojnost')\n",
    "plt.title('Brojnost kategorija egzoplaneta')\n",
    "plt.show()"
   ]
  },
  {
   "cell_type": "code",
   "execution_count": 41,
   "metadata": {},
   "outputs": [
    {
     "data": {
      "image/png": "[encoded data removed]",
      "text/plain": [
       "<Figure size 576x360 with 1 Axes>"
      ]
     },
     "metadata": {
      "needs_background": "light"
     },
     "output_type": "display_data"
    }
   ],
   "source": [
    "plt.figure(figsize=(8,5))\n",
    "scp = sns.countplot(x=planetary_systems['st_spect'],palette='Blues_r',data = planetary_systems,order=planetary_systems['st_spect'].value_counts().index)\n",
    "annotate_countplot(scp,planetary_systems,0.01)\n",
    "sns.despine()\n",
    "plt.xlabel('Spektralni tip')\n",
    "plt.ylabel('Brojnost')\n",
    "plt.title('Brojnost spektralnih tipova zvijezda')\n",
    "plt.show()"
   ]
  },
  {
   "cell_type": "code",
   "execution_count": 42,
   "metadata": {},
   "outputs": [
    {
     "data": {
      "image/png": "[encoded data removed]",
      "text/plain": [
       "<Figure size 576x360 with 1 Axes>"
      ]
     },
     "metadata": {
      "needs_background": "light"
     },
     "output_type": "display_data"
    }
   ],
   "source": [
    "plt.figure(figsize=(8,5))\n",
    "scp = sns.countplot(x=exo_data['sy_snum'],palette='Blues_r',data = planetary_systems,order=planetary_systems['sy_snum'].value_counts().index)\n",
    "annotate_countplot(scp,planetary_systems,0.01)\n",
    "sns.despine()\n",
    "plt.xlabel('Broj zvijezda')\n",
    "plt.ylabel('Brojnost')\n",
    "plt.title('Brojnost broja zvijezda u sustavu')\n",
    "plt.show()"
   ]
  },
  {
   "cell_type": "code",
   "execution_count": 43,
   "metadata": {},
   "outputs": [
    {
     "data": {
      "image/png": "[encoded data removed]",
      "text/plain": [
       "<Figure size 576x432 with 1 Axes>"
      ]
     },
     "metadata": {
      "needs_background": "light"
     },
     "output_type": "display_data"
    }
   ],
   "source": [
    "_,_ = plt.subplots(nrows=1,ncols=1,figsize=(8,6))\n",
    "scp = sns.countplot(x = planetary_systems['sy_pnum'], data = planetary_systems, palette='Blues_r')\n",
    "annotate_countplot(scp,planetary_systems,0.01)\n",
    "plt.xlabel('Broj planeta')\n",
    "plt.ylabel('Brojnost')\n",
    "plt.title('Brojnost broja planeta u sustavu')\n",
    "sns.despine()"
   ]
  },
  {
   "cell_type": "code",
   "execution_count": 44,
   "metadata": {},
   "outputs": [
    {
     "data": {
      "image/png": "[encoded data removed]",
      "text/plain": [
       "<Figure size 1440x504 with 1 Axes>"
      ]
     },
     "metadata": {
      "needs_background": "light"
     },
     "output_type": "display_data"
    }
   ],
   "source": [
    "pl = ht.plot(kind=\"bar\", rot=0,colormap='RdBu', figsize=(20,7), width=0.8)\n",
    "annotate_countplot(pl,ht,1.5)\n",
    "plt.xlabel('Spektralni tip zvijezda')\n",
    "plt.ylabel('Brojnost vrsta planeta')\n",
    "plt.title('Brojnost vrste egzoplaneta po vrsti zvijezde')\n",
    "sns.despine()\n",
    "plt.show()"
   ]
  },
  {
   "cell_type": "code",
   "execution_count": 45,
   "metadata": {},
   "outputs": [
    {
     "data": {
      "image/png": "[encoded data removed]",
      "text/plain": [
       "<Figure size 576x360 with 1 Axes>"
      ]
     },
     "metadata": {
      "needs_background": "light"
     },
     "output_type": "display_data"
    }
   ],
   "source": [
    "plt.figure(figsize=(8,5))\n",
    "sns.scatterplot(x=planetary_systems['st_metallicity'],y=np.log(exo_data['pl_orbper']),hue=exo_data['exo_class_ext'],palette='RdBu',alpha=0.8,s=15).set(title='Metalicitet zvijezde nasprem kategoriji egzoplaneta')\n",
    "sns.despine()\n",
    "plt.xlabel('Metalicitet zvijezde')\n",
    "plt.ylabel('Period planeta')\n",
    "plt.show()"
   ]
  },
  {
   "cell_type": "code",
   "execution_count": null,
   "metadata": {},
   "outputs": [],
   "source": []
  },
  {
   "cell_type": "code",
   "execution_count": null,
   "metadata": {},
   "outputs": [],
   "source": []
  },
  {
   "cell_type": "code",
   "execution_count": null,
   "metadata": {},
   "outputs": [],
   "source": []
  }
 ],
 "metadata": {
  "interpreter": {
   "hash": "f312511ae582b1c6e7783738b4a5dcd1cef680f75c41796918df7751733aac0c"
  },
  "kernelspec": {
   "display_name": "Python 3.9.1 ('base')",
   "language": "python",
   "name": "python3"
  },
  "language_info": {
   "codemirror_mode": {
    "name": "ipython",
    "version": 3
   },
   "file_extension": ".py",
   "mimetype": "text/x-python",
   "name": "python",
   "nbconvert_exporter": "python",
   "pygments_lexer": "ipython3",
   "version": "3.9.1"
  },
  "orig_nbformat": 4
 },
 "nbformat": 4,
 "nbformat_minor": 2
}
